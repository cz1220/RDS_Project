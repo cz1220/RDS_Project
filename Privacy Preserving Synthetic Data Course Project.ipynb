{
 "cells": [
  {
   "cell_type": "markdown",
   "metadata": {
    "id": "rmoZ7PnaFdYv"
   },
   "source": [
    "# Responsible Data Science Spring 2021: Homework 2\n",
    "\n",
    "This notebook contains sample code; other methods at arriving at the correct answer were also accepted.\n",
    "\n",
    "Install the Data Synthesizer library."
   ]
  },
  {
   "cell_type": "code",
   "execution_count": 2,
   "metadata": {
    "colab": {
     "base_uri": "https://localhost:8080/"
    },
    "id": "1VR_j1uKFdY0",
    "outputId": "a6338f6d-599c-450e-aae6-2d8539cfe344"
   },
   "outputs": [
    {
     "name": "stdout",
     "output_type": "stream",
     "text": [
      "Collecting DataSynthesizer\n",
      "  Downloading https://files.pythonhosted.org/packages/ff/49/c60f7a9e44807689c7856eb2f364684085803bb8cae784a30bcfe378a387/DataSynthesizer-0.1.8-py2.py3-none-any.whl\n",
      "Collecting scikit-learn>=0.23.1\n",
      "\u001b[?25l  Downloading https://files.pythonhosted.org/packages/f3/74/eb899f41d55f957e2591cde5528e75871f817d9fb46d4732423ecaca736d/scikit_learn-0.24.1-cp37-cp37m-manylinux2010_x86_64.whl (22.3MB)\n",
      "\u001b[K     |████████████████████████████████| 22.3MB 1.6MB/s \n",
      "\u001b[?25hRequirement already satisfied: numpy>=1.18.5 in /usr/local/lib/python3.7/dist-packages (from DataSynthesizer) (1.19.5)\n",
      "Requirement already satisfied: seaborn>=0.10.1 in /usr/local/lib/python3.7/dist-packages (from DataSynthesizer) (0.11.1)\n",
      "Requirement already satisfied: python-dateutil>=2.8.1 in /usr/local/lib/python3.7/dist-packages (from DataSynthesizer) (2.8.1)\n",
      "Requirement already satisfied: matplotlib>=3.2.2 in /usr/local/lib/python3.7/dist-packages (from DataSynthesizer) (3.2.2)\n",
      "Requirement already satisfied: pandas>=1.0.5 in /usr/local/lib/python3.7/dist-packages (from DataSynthesizer) (1.1.5)\n",
      "Requirement already satisfied: joblib>=0.11 in /usr/local/lib/python3.7/dist-packages (from scikit-learn>=0.23.1->DataSynthesizer) (1.0.1)\n",
      "Requirement already satisfied: scipy>=0.19.1 in /usr/local/lib/python3.7/dist-packages (from scikit-learn>=0.23.1->DataSynthesizer) (1.4.1)\n",
      "Collecting threadpoolctl>=2.0.0\n",
      "  Downloading https://files.pythonhosted.org/packages/f7/12/ec3f2e203afa394a149911729357aa48affc59c20e2c1c8297a60f33f133/threadpoolctl-2.1.0-py3-none-any.whl\n",
      "Requirement already satisfied: six>=1.5 in /usr/local/lib/python3.7/dist-packages (from python-dateutil>=2.8.1->DataSynthesizer) (1.15.0)\n",
      "Requirement already satisfied: pyparsing!=2.0.4,!=2.1.2,!=2.1.6,>=2.0.1 in /usr/local/lib/python3.7/dist-packages (from matplotlib>=3.2.2->DataSynthesizer) (2.4.7)\n",
      "Requirement already satisfied: cycler>=0.10 in /usr/local/lib/python3.7/dist-packages (from matplotlib>=3.2.2->DataSynthesizer) (0.10.0)\n",
      "Requirement already satisfied: kiwisolver>=1.0.1 in /usr/local/lib/python3.7/dist-packages (from matplotlib>=3.2.2->DataSynthesizer) (1.3.1)\n",
      "Requirement already satisfied: pytz>=2017.2 in /usr/local/lib/python3.7/dist-packages (from pandas>=1.0.5->DataSynthesizer) (2018.9)\n",
      "Installing collected packages: threadpoolctl, scikit-learn, DataSynthesizer\n",
      "  Found existing installation: scikit-learn 0.22.2.post1\n",
      "    Uninstalling scikit-learn-0.22.2.post1:\n",
      "      Successfully uninstalled scikit-learn-0.22.2.post1\n",
      "Successfully installed DataSynthesizer-0.1.8 scikit-learn-0.24.1 threadpoolctl-2.1.0\n"
     ]
    }
   ],
   "source": [
    "!pip install DataSynthesizer"
   ]
  },
  {
   "cell_type": "code",
   "execution_count": 3,
   "metadata": {
    "id": "yd3BwlQ1FdZD"
   },
   "outputs": [],
   "source": [
    "from DataSynthesizer.DataDescriber import DataDescriber\n",
    "from DataSynthesizer.DataGenerator import DataGenerator\n",
    "from DataSynthesizer.ModelInspector import ModelInspector\n",
    "from DataSynthesizer.lib.utils import normalize_given_distribution, read_json_file, pairwise_attributes_mutual_information, mutual_information, set_random_seed, display_bayesian_network\n",
    "\n",
    "from IPython.display import clear_output\n",
    "from scipy.stats import entropy, ks_2samp\n",
    "from scipy.spatial.distance import euclidean\n",
    "from sklearn.metrics import mutual_info_score\n",
    "from random import randint\n",
    "import pandas as pd\n",
    "import matplotlib.pyplot as plt\n",
    "import seaborn as sns\n",
    "import numpy as np\n",
    "\n",
    "%matplotlib inline"
   ]
  },
  {
   "cell_type": "markdown",
   "metadata": {
    "id": "_ZaByotmFdZo"
   },
   "source": [
    "Start with a real dataset __hw_compas__ and a fake dataset __hw_xyz__. Generate synthetic datasets of size __N=10000__, in the following four categories:\n",
    "- A:  random mode\n",
    "- B: independent attribute mode with __epsilon = 0.1__\n",
    "- C:  correlated attribute mode with __epsilon = 0.1__, Bayes net degree k=1\n",
    "- D: correlated attribute mode with __epsilon = 0.1__, Bayes net degree k=2"
   ]
  },
  {
   "cell_type": "code",
   "execution_count": 4,
   "metadata": {
    "id": "GXqw1Tjl3kdb"
   },
   "outputs": [],
   "source": [
    "# Packages for reading csv file into Colaboratory:\n",
    "!pip install -U -q PyDrive==1.3.1\n",
    "\n",
    "from pydrive.auth import GoogleAuth\n",
    "from pydrive.drive import GoogleDrive\n",
    "from google.colab import auth\n",
    "from oauth2client.client import GoogleCredentials\n",
    "\n",
    "# Authenticate and create the PyDrive client. \n",
    "# Please follow the steps as instructed when you run the following commands. \n",
    "\n",
    "auth.authenticate_user()\n",
    "gauth = GoogleAuth()\n",
    "gauth.credentials = GoogleCredentials.get_application_default()\n",
    "drive = GoogleDrive(gauth)"
   ]
  },
  {
   "cell_type": "code",
   "execution_count": 5,
   "metadata": {
    "id": "hecmLsCU3lsg"
   },
   "outputs": [],
   "source": [
    "fileid_compas = '12nKVg66nQkHX9gLFL-wXpgppCNSoasFJ'    \n",
    "real_data_file = 'hw_compas.csv'\n",
    "\n",
    "fileid_fake = '125JShDZAur7zQSugMoLi-JiIohtcvGY1'    \n",
    "fake_data_file = 'hw_fake.csv'\n",
    "\n",
    "downloaded = drive.CreateFile({'id':fileid_compas}) \n",
    "downloaded.GetContentFile(real_data_file)  \n",
    "df_real = pd.read_csv(real_data_file)\n",
    "\n",
    "downloaded = drive.CreateFile({'id':fileid_fake}) \n",
    "downloaded.GetContentFile(fake_data_file)  \n",
    "df_fake = pd.read_csv(fake_data_file)"
   ]
  },
  {
   "cell_type": "code",
   "execution_count": 6,
   "metadata": {
    "id": "aX8xKjrp3Z72"
   },
   "outputs": [],
   "source": [
    "# Write code here to generate the datasets\n",
    "#initialize describer and generator \n",
    "describer = DataDescriber()\n",
    "generator = DataGenerator()\n",
    "\n",
    "#set up some paths\n",
    "description_files_compas = {'random mode':                   'description(random).json', \n",
    "                     'independent attribute mode':    'description(independent).json', \n",
    "                     'correlated attribute mode 1':     'description(correlated 1).json',\n",
    "                     'correlated attribute mode 2':     'description(correlated 2).json'}\n",
    "\n",
    "synthetic_data_files_compas = {'random mode':                'synthetic data(random).csv', \n",
    "                        'independent attribute mode': 'synthetic data(independent).csv', \n",
    "                        'correlated attribute mode 1':  'synthetic data(correlated 1).csv',\n",
    "                        'correlated attribute mode 2':  'synthetic data(correlated 2).csv'}\n",
    "\n",
    "description_files_fake = {'random mode':                   'description(random).json', \n",
    "                     'independent attribute mode':    'description(independent).json', \n",
    "                     'correlated attribute mode 1':     'description(correlated 1).json',\n",
    "                     'correlated attribute mode 2':     'description(correlated 2).json'}\n",
    "\n",
    "synthetic_data_files_fake = {'random mode':                'synthetic data(random).csv', \n",
    "                        'independent attribute mode': 'synthetic data(independent).csv',\n",
    "                        'correlated attribute mode 1':  'synthetic data(correlated 1).csv', \n",
    "                        'correlated attribute mode 2':  'synthetic data(correlated 2).csv'}\n",
    "\n",
    "\n",
    "output_data_size = 10000"
   ]
  },
  {
   "cell_type": "code",
   "execution_count": 7,
   "metadata": {
    "colab": {
     "base_uri": "https://localhost:8080/",
     "height": 204
    },
    "id": "XaES1ZYx5YZv",
    "outputId": "1189caa5-a09f-4667-e360-913ad52e1b36"
   },
   "outputs": [
    {
     "data": {
      "text/html": [
       "<div>\n",
       "<style scoped>\n",
       "    .dataframe tbody tr th:only-of-type {\n",
       "        vertical-align: middle;\n",
       "    }\n",
       "\n",
       "    .dataframe tbody tr th {\n",
       "        vertical-align: top;\n",
       "    }\n",
       "\n",
       "    .dataframe thead th {\n",
       "        text-align: right;\n",
       "    }\n",
       "</style>\n",
       "<table border=\"1\" class=\"dataframe\">\n",
       "  <thead>\n",
       "    <tr style=\"text-align: right;\">\n",
       "      <th></th>\n",
       "      <th>sex</th>\n",
       "      <th>age</th>\n",
       "      <th>race</th>\n",
       "      <th>score</th>\n",
       "    </tr>\n",
       "  </thead>\n",
       "  <tbody>\n",
       "    <tr>\n",
       "      <th>0</th>\n",
       "      <td>Male</td>\n",
       "      <td>69</td>\n",
       "      <td>Other</td>\n",
       "      <td>1</td>\n",
       "    </tr>\n",
       "    <tr>\n",
       "      <th>1</th>\n",
       "      <td>Male</td>\n",
       "      <td>31</td>\n",
       "      <td>Caucasian</td>\n",
       "      <td>5</td>\n",
       "    </tr>\n",
       "    <tr>\n",
       "      <th>2</th>\n",
       "      <td>Male</td>\n",
       "      <td>34</td>\n",
       "      <td>African-American</td>\n",
       "      <td>3</td>\n",
       "    </tr>\n",
       "    <tr>\n",
       "      <th>3</th>\n",
       "      <td>Male</td>\n",
       "      <td>24</td>\n",
       "      <td>African-American</td>\n",
       "      <td>4</td>\n",
       "    </tr>\n",
       "    <tr>\n",
       "      <th>4</th>\n",
       "      <td>Male</td>\n",
       "      <td>23</td>\n",
       "      <td>African-American</td>\n",
       "      <td>8</td>\n",
       "    </tr>\n",
       "  </tbody>\n",
       "</table>\n",
       "</div>"
      ],
      "text/plain": [
       "    sex  age              race  score\n",
       "0  Male   69             Other      1\n",
       "1  Male   31         Caucasian      5\n",
       "2  Male   34  African-American      3\n",
       "3  Male   24  African-American      4\n",
       "4  Male   23  African-American      8"
      ]
     },
     "execution_count": 7,
     "metadata": {
      "tags": []
     },
     "output_type": "execute_result"
    }
   ],
   "source": [
    "df_real.head()"
   ]
  },
  {
   "cell_type": "markdown",
   "metadata": {
    "id": "-Hgj2LDKTwOw"
   },
   "source": [
    "# Generate Data Set for the Real Data File"
   ]
  },
  {
   "cell_type": "code",
   "execution_count": 9,
   "metadata": {
    "colab": {
     "base_uri": "https://localhost:8080/",
     "height": 204
    },
    "id": "cwmlF9kRFdZp",
    "outputId": "20c4b2da-ee59-458a-f01b-15144b2ff0e0"
   },
   "outputs": [
    {
     "data": {
      "text/html": [
       "<div>\n",
       "<style scoped>\n",
       "    .dataframe tbody tr th:only-of-type {\n",
       "        vertical-align: middle;\n",
       "    }\n",
       "\n",
       "    .dataframe tbody tr th {\n",
       "        vertical-align: top;\n",
       "    }\n",
       "\n",
       "    .dataframe thead th {\n",
       "        text-align: right;\n",
       "    }\n",
       "</style>\n",
       "<table border=\"1\" class=\"dataframe\">\n",
       "  <thead>\n",
       "    <tr style=\"text-align: right;\">\n",
       "      <th></th>\n",
       "      <th>sex</th>\n",
       "      <th>age</th>\n",
       "      <th>race</th>\n",
       "      <th>score</th>\n",
       "    </tr>\n",
       "  </thead>\n",
       "  <tbody>\n",
       "    <tr>\n",
       "      <th>0</th>\n",
       "      <td>Male</td>\n",
       "      <td>9</td>\n",
       "      <td>Native American</td>\n",
       "      <td>10</td>\n",
       "    </tr>\n",
       "    <tr>\n",
       "      <th>1</th>\n",
       "      <td>Female</td>\n",
       "      <td>35</td>\n",
       "      <td>Hispanic</td>\n",
       "      <td>1</td>\n",
       "    </tr>\n",
       "    <tr>\n",
       "      <th>2</th>\n",
       "      <td>Female</td>\n",
       "      <td>78</td>\n",
       "      <td>Other</td>\n",
       "      <td>6</td>\n",
       "    </tr>\n",
       "    <tr>\n",
       "      <th>3</th>\n",
       "      <td>Male</td>\n",
       "      <td>32</td>\n",
       "      <td>African-American</td>\n",
       "      <td>6</td>\n",
       "    </tr>\n",
       "    <tr>\n",
       "      <th>4</th>\n",
       "      <td>Female</td>\n",
       "      <td>58</td>\n",
       "      <td>Hispanic</td>\n",
       "      <td>9</td>\n",
       "    </tr>\n",
       "  </tbody>\n",
       "</table>\n",
       "</div>"
      ],
      "text/plain": [
       "      sex  age              race  score\n",
       "0    Male    9   Native American     10\n",
       "1  Female   35          Hispanic      1\n",
       "2  Female   78             Other      6\n",
       "3    Male   32  African-American      6\n",
       "4  Female   58          Hispanic      9"
      ]
     },
     "execution_count": 9,
     "metadata": {
      "tags": []
     },
     "output_type": "execute_result"
    }
   ],
   "source": [
    "#generate data set for hw_compas random mode.\n",
    "describer.describe_dataset_in_random_mode(real_data_file) \n",
    "describer.save_dataset_description_to_file(description_files_compas['random mode'])\n",
    "\n",
    "generator.generate_dataset_in_random_mode(n=output_data_size, \n",
    "                                          description_file=description_files_compas['random mode'], \n",
    "                                          seed=0, \n",
    "                                          minimum=0, \n",
    "                                          maximum=100)\n",
    "\n",
    "#save the synethetic data \n",
    "generator.save_synthetic_data(synthetic_data_files_compas['random mode'])\n",
    "\n",
    "#convert to dataframe\n",
    "synthetic_random_compas = pd.read_csv(synthetic_data_files_compas['random mode'])\n",
    "synthetic_random_compas.head()"
   ]
  },
  {
   "cell_type": "code",
   "execution_count": 10,
   "metadata": {
    "colab": {
     "base_uri": "https://localhost:8080/",
     "height": 204
    },
    "id": "koFPpcVk_USQ",
    "outputId": "35d64907-f384-4468-982c-fab9de06465b"
   },
   "outputs": [
    {
     "data": {
      "text/html": [
       "<div>\n",
       "<style scoped>\n",
       "    .dataframe tbody tr th:only-of-type {\n",
       "        vertical-align: middle;\n",
       "    }\n",
       "\n",
       "    .dataframe tbody tr th {\n",
       "        vertical-align: top;\n",
       "    }\n",
       "\n",
       "    .dataframe thead th {\n",
       "        text-align: right;\n",
       "    }\n",
       "</style>\n",
       "<table border=\"1\" class=\"dataframe\">\n",
       "  <thead>\n",
       "    <tr style=\"text-align: right;\">\n",
       "      <th></th>\n",
       "      <th>sex</th>\n",
       "      <th>age</th>\n",
       "      <th>race</th>\n",
       "      <th>score</th>\n",
       "    </tr>\n",
       "  </thead>\n",
       "  <tbody>\n",
       "    <tr>\n",
       "      <th>0</th>\n",
       "      <td>Male</td>\n",
       "      <td>45.0</td>\n",
       "      <td>African-American</td>\n",
       "      <td>7</td>\n",
       "    </tr>\n",
       "    <tr>\n",
       "      <th>1</th>\n",
       "      <td>Male</td>\n",
       "      <td>25.0</td>\n",
       "      <td>African-American</td>\n",
       "      <td>4</td>\n",
       "    </tr>\n",
       "    <tr>\n",
       "      <th>2</th>\n",
       "      <td>Male</td>\n",
       "      <td>27.0</td>\n",
       "      <td>Native American</td>\n",
       "      <td>1</td>\n",
       "    </tr>\n",
       "    <tr>\n",
       "      <th>3</th>\n",
       "      <td>Male</td>\n",
       "      <td>19.0</td>\n",
       "      <td>African-American</td>\n",
       "      <td>8</td>\n",
       "    </tr>\n",
       "    <tr>\n",
       "      <th>4</th>\n",
       "      <td>Male</td>\n",
       "      <td>20.0</td>\n",
       "      <td>Other</td>\n",
       "      <td>4</td>\n",
       "    </tr>\n",
       "  </tbody>\n",
       "</table>\n",
       "</div>"
      ],
      "text/plain": [
       "    sex   age              race  score\n",
       "0  Male  45.0  African-American      7\n",
       "1  Male  25.0  African-American      4\n",
       "2  Male  27.0   Native American      1\n",
       "3  Male  19.0  African-American      8\n",
       "4  Male  20.0             Other      4"
      ]
     },
     "execution_count": 10,
     "metadata": {
      "tags": []
     },
     "output_type": "execute_result"
    }
   ],
   "source": [
    "#generate data set for hw_compas independent attribute mode with epsilon = 0.1.\n",
    "describer.describe_dataset_in_independent_attribute_mode(real_data_file, epsilon=0.1)\n",
    "describer.save_dataset_description_to_file(description_files_compas['independent attribute mode'])\n",
    "generator.generate_dataset_in_independent_mode(n=output_data_size,description_file=description_files_compas['independent attribute mode'],seed=0,)\n",
    "\n",
    "\n",
    "#save the synethetic data \n",
    "generator.save_synthetic_data(synthetic_data_files_compas['independent attribute mode'])\n",
    "\n",
    "#convert to dataframe\n",
    "synthetic_independent_compas = pd.read_csv(synthetic_data_files_compas['independent attribute mode'])\n",
    "synthetic_independent_compas.head()"
   ]
  },
  {
   "cell_type": "code",
   "execution_count": 11,
   "metadata": {
    "colab": {
     "base_uri": "https://localhost:8080/"
    },
    "id": "lOWSyS-aAhlI",
    "outputId": "ae2a62b9-b9ce-4e35-8816-7127ad41dc62"
   },
   "outputs": [
    {
     "name": "stdout",
     "output_type": "stream",
     "text": [
      "================ Constructing Bayesian Network (BN) ================\n",
      "Adding ROOT score\n",
      "Adding attribute age\n",
      "Adding attribute sex\n",
      "Adding attribute race\n",
      "========================== BN constructed ==========================\n"
     ]
    }
   ],
   "source": [
    "#generate data set for hw_compas C: correlated attribute mode with epsilon = 0.1, with Bayesian network degree k=1\n",
    "describer.describe_dataset_in_correlated_attribute_mode(real_data_file, \n",
    "                                                        epsilon=0.1, \n",
    "                                                        k=1)\n",
    "describer.save_dataset_description_to_file(description_files_compas['correlated attribute mode 1'])\n",
    "generator.generate_dataset_in_correlated_attribute_mode(n=output_data_size,description_file=description_files_compas['correlated attribute mode 1'],seed=0,)\n",
    "\n",
    "#save the synethetic data \n",
    "generator.save_synthetic_data(synthetic_data_files_compas['correlated attribute mode 1'])\n",
    "\n",
    "#convert to dataframe\n",
    "synthetic_correlated_1_compas = pd.read_csv(synthetic_data_files_compas['correlated attribute mode 1'])"
   ]
  },
  {
   "cell_type": "code",
   "execution_count": 12,
   "metadata": {
    "colab": {
     "base_uri": "https://localhost:8080/"
    },
    "id": "Lny-ajifA3VA",
    "outputId": "ccd5c1ee-2d1c-4341-84a6-9319797e0a11"
   },
   "outputs": [
    {
     "name": "stdout",
     "output_type": "stream",
     "text": [
      "================ Constructing Bayesian Network (BN) ================\n",
      "Adding ROOT score\n",
      "Adding attribute age\n",
      "Adding attribute sex\n",
      "Adding attribute race\n",
      "========================== BN constructed ==========================\n"
     ]
    }
   ],
   "source": [
    "#generate data set for hw_compas C: correlated attribute mode with epsilon = 0.1, with Bayesian network degree k=2\n",
    "describer.describe_dataset_in_correlated_attribute_mode(real_data_file, \n",
    "                                                        epsilon=0.1, \n",
    "                                                        k=2)\n",
    "describer.save_dataset_description_to_file(description_files_compas['correlated attribute mode 2'])\n",
    "generator.generate_dataset_in_correlated_attribute_mode(n=output_data_size,description_file=description_files_compas['correlated attribute mode 2'],seed=0,)\n",
    "\n",
    "#save the synethetic data \n",
    "generator.save_synthetic_data(synthetic_data_files_compas['correlated attribute mode 2'])\n",
    "\n",
    "#convert to dataframe\n",
    "synthetic_correlated_2_compas = pd.read_csv(synthetic_data_files_compas['correlated attribute mode 2'])"
   ]
  },
  {
   "cell_type": "markdown",
   "metadata": {
    "id": "xKTHPmtYNVWP"
   },
   "source": [
    "#Generate data set for the fake data file \n"
   ]
  },
  {
   "cell_type": "code",
   "execution_count": 13,
   "metadata": {
    "colab": {
     "base_uri": "https://localhost:8080/",
     "height": 204
    },
    "id": "I8djaZzeNbQ8",
    "outputId": "a77922ea-2fa5-482a-f3a3-129a8ef3f878"
   },
   "outputs": [
    {
     "data": {
      "text/html": [
       "<div>\n",
       "<style scoped>\n",
       "    .dataframe tbody tr th:only-of-type {\n",
       "        vertical-align: middle;\n",
       "    }\n",
       "\n",
       "    .dataframe tbody tr th {\n",
       "        vertical-align: top;\n",
       "    }\n",
       "\n",
       "    .dataframe thead th {\n",
       "        text-align: right;\n",
       "    }\n",
       "</style>\n",
       "<table border=\"1\" class=\"dataframe\">\n",
       "  <thead>\n",
       "    <tr style=\"text-align: right;\">\n",
       "      <th></th>\n",
       "      <th>parent_1</th>\n",
       "      <th>parent_2</th>\n",
       "      <th>child_1</th>\n",
       "      <th>child_2</th>\n",
       "    </tr>\n",
       "  </thead>\n",
       "  <tbody>\n",
       "    <tr>\n",
       "      <th>0</th>\n",
       "      <td>0</td>\n",
       "      <td>1</td>\n",
       "      <td>1</td>\n",
       "      <td>1</td>\n",
       "    </tr>\n",
       "    <tr>\n",
       "      <th>1</th>\n",
       "      <td>2</td>\n",
       "      <td>2</td>\n",
       "      <td>0</td>\n",
       "      <td>0</td>\n",
       "    </tr>\n",
       "    <tr>\n",
       "      <th>2</th>\n",
       "      <td>0</td>\n",
       "      <td>1</td>\n",
       "      <td>0</td>\n",
       "      <td>1</td>\n",
       "    </tr>\n",
       "    <tr>\n",
       "      <th>3</th>\n",
       "      <td>2</td>\n",
       "      <td>1</td>\n",
       "      <td>0</td>\n",
       "      <td>2</td>\n",
       "    </tr>\n",
       "    <tr>\n",
       "      <th>4</th>\n",
       "      <td>2</td>\n",
       "      <td>0</td>\n",
       "      <td>2</td>\n",
       "      <td>2</td>\n",
       "    </tr>\n",
       "  </tbody>\n",
       "</table>\n",
       "</div>"
      ],
      "text/plain": [
       "   parent_1  parent_2  child_1  child_2\n",
       "0         0         1        1        1\n",
       "1         2         2        0        0\n",
       "2         0         1        0        1\n",
       "3         2         1        0        2\n",
       "4         2         0        2        2"
      ]
     },
     "execution_count": 13,
     "metadata": {
      "tags": []
     },
     "output_type": "execute_result"
    }
   ],
   "source": [
    "#generate data set for fake_data_file random mode.\n",
    "describer.describe_dataset_in_random_mode(fake_data_file) \n",
    "describer.save_dataset_description_to_file(description_files_fake['random mode'])\n",
    "\n",
    "generator.generate_dataset_in_random_mode(n=output_data_size, \n",
    "                                          description_file=description_files_fake['random mode'], \n",
    "                                          seed=0, \n",
    "                                          minimum=0, \n",
    "                                          maximum=100)\n",
    "\n",
    "#save the synethetic data \n",
    "generator.save_synthetic_data(synthetic_data_files_fake['random mode'])\n",
    "\n",
    "#convert to dataframe\n",
    "synthetic_random_fake = pd.read_csv(synthetic_data_files_fake['random mode'])\n",
    "synthetic_random_fake.head()"
   ]
  },
  {
   "cell_type": "code",
   "execution_count": 14,
   "metadata": {
    "id": "XawixItsNq01"
   },
   "outputs": [],
   "source": [
    "#generate data set for fake_data_file independent attribute mode with epsilon = 0.1.\n",
    "describer.describe_dataset_in_independent_attribute_mode(fake_data_file, epsilon=0.1)\n",
    "describer.save_dataset_description_to_file(description_files_fake['independent attribute mode'])\n",
    "generator.generate_dataset_in_independent_mode(n=output_data_size,description_file=description_files_fake['independent attribute mode'],seed=0,)\n",
    "\n",
    "\n",
    "#save the synethetic data \n",
    "generator.save_synthetic_data(synthetic_data_files_fake['independent attribute mode'])\n",
    "\n",
    "#convert to dataframe\n",
    "synthetic_independent_fake = pd.read_csv(synthetic_data_files_fake['independent attribute mode'])"
   ]
  },
  {
   "cell_type": "code",
   "execution_count": 15,
   "metadata": {
    "colab": {
     "base_uri": "https://localhost:8080/"
    },
    "id": "3pLvj0VVOBNL",
    "outputId": "d18c4a03-43b4-4c4d-f0f1-a0570e05ed7d"
   },
   "outputs": [
    {
     "name": "stdout",
     "output_type": "stream",
     "text": [
      "================ Constructing Bayesian Network (BN) ================\n",
      "Adding ROOT child_2\n",
      "Adding attribute parent_2\n",
      "Adding attribute child_1\n",
      "Adding attribute parent_1\n",
      "========================== BN constructed ==========================\n"
     ]
    }
   ],
   "source": [
    "#generate data set for fake_data_file correlated attribute mode with epsilon = 0.1, with Bayesian network degree k=1\n",
    "describer.describe_dataset_in_correlated_attribute_mode(fake_data_file, \n",
    "                                                        epsilon=0.1, \n",
    "                                                        k=1)\n",
    "describer.save_dataset_description_to_file(description_files_fake['correlated attribute mode 1'])\n",
    "generator.generate_dataset_in_correlated_attribute_mode(n=output_data_size,description_file=description_files_fake['correlated attribute mode 1'],seed=0,)\n",
    "\n",
    "#save the synethetic data \n",
    "generator.save_synthetic_data(synthetic_data_files_fake['correlated attribute mode 1'])\n",
    "\n",
    "\n",
    "#convert to dataframe\n",
    "synthetic_correlated_1_fake = pd.read_csv(synthetic_data_files_fake['correlated attribute mode 1'])"
   ]
  },
  {
   "cell_type": "code",
   "execution_count": 16,
   "metadata": {
    "colab": {
     "base_uri": "https://localhost:8080/"
    },
    "id": "PHqr0PoROQfr",
    "outputId": "e73ba242-7c0b-474e-d110-87c865fcabf5"
   },
   "outputs": [
    {
     "name": "stdout",
     "output_type": "stream",
     "text": [
      "================ Constructing Bayesian Network (BN) ================\n",
      "Adding ROOT child_2\n",
      "Adding attribute parent_2\n",
      "Adding attribute child_1\n",
      "Adding attribute parent_1\n",
      "========================== BN constructed ==========================\n"
     ]
    }
   ],
   "source": [
    "#generate data set for hw_compas C: correlated attribute mode with epsilon = 0.1, with Bayesian network degree k=2\n",
    "describer.describe_dataset_in_correlated_attribute_mode(fake_data_file, \n",
    "                                                        epsilon=0.1, \n",
    "                                                        k=2)\n",
    "describer.save_dataset_description_to_file(description_files_fake['correlated attribute mode 2'])\n",
    "generator.generate_dataset_in_correlated_attribute_mode(n=output_data_size,description_file=description_files_fake['correlated attribute mode 2'],seed=0,)\n",
    "\n",
    "#save the synethetic data \n",
    "generator.save_synthetic_data(synthetic_data_files_fake['correlated attribute mode 2'])\n",
    "\n",
    "#convert to dataframe\n",
    "synthetic_correlated_2_fake = pd.read_csv(synthetic_data_files_fake['correlated attribute mode 2'])"
   ]
  },
  {
   "cell_type": "markdown",
   "metadata": {
    "id": "9jSaXvMoFdZu"
   },
   "source": [
    "## Part (a)"
   ]
  },
  {
   "cell_type": "markdown",
   "metadata": {
    "id": "DyXI_gY_FdZx"
   },
   "source": [
    "### Q1\n",
    "\n",
    "Median, Mean, Min, Max of __age__ for each setting A, B, C and D, compare to the ground truth value in __hw_compas__, present results in a table"
   ]
  },
  {
   "cell_type": "code",
   "execution_count": 17,
   "metadata": {
    "id": "dyNLL5p5Trk7"
   },
   "outputs": [],
   "source": [
    "def stats(df, column):\n",
    "  median = df[column].median()\n",
    "  mean = df[column].mean()\n",
    "  min = df[column].min()\n",
    "  max = df[column].max()\n",
    "  stats = np.array([median,mean,min,max])\n",
    "  return stats\n",
    "\n",
    "\n"
   ]
  },
  {
   "cell_type": "code",
   "execution_count": 18,
   "metadata": {
    "id": "d3QxZCtZTrbS"
   },
   "outputs": [],
   "source": [
    "A_compas = stats(synthetic_random_compas,\"age\")\n",
    "B_compas = stats(synthetic_independent_compas,\"age\")\n",
    "C_compas = stats(synthetic_correlated_1_compas,\"age\")\n",
    "D_compas = stats(synthetic_correlated_2_compas,\"age\")\n",
    "real_compas = stats(df_real, \"age\")\n",
    "\n"
   ]
  },
  {
   "cell_type": "code",
   "execution_count": 19,
   "metadata": {
    "colab": {
     "base_uri": "https://localhost:8080/",
     "height": 173
    },
    "id": "b0t-WBRVIPTI",
    "outputId": "00ba9df8-aed1-44c0-e290-af6cc79e2db9"
   },
   "outputs": [
    {
     "data": {
      "text/html": [
       "<div>\n",
       "<style scoped>\n",
       "    .dataframe tbody tr th:only-of-type {\n",
       "        vertical-align: middle;\n",
       "    }\n",
       "\n",
       "    .dataframe tbody tr th {\n",
       "        vertical-align: top;\n",
       "    }\n",
       "\n",
       "    .dataframe thead th {\n",
       "        text-align: right;\n",
       "    }\n",
       "</style>\n",
       "<table border=\"1\" class=\"dataframe\">\n",
       "  <thead>\n",
       "    <tr style=\"text-align: right;\">\n",
       "      <th></th>\n",
       "      <th>A</th>\n",
       "      <th>B</th>\n",
       "      <th>C</th>\n",
       "      <th>D</th>\n",
       "      <th>real</th>\n",
       "    </tr>\n",
       "  </thead>\n",
       "  <tbody>\n",
       "    <tr>\n",
       "      <th>median</th>\n",
       "      <td>50.0000</td>\n",
       "      <td>32.0000</td>\n",
       "      <td>38.0000</td>\n",
       "      <td>40.0000</td>\n",
       "      <td>32.000000</td>\n",
       "    </tr>\n",
       "    <tr>\n",
       "      <th>mean</th>\n",
       "      <td>50.3008</td>\n",
       "      <td>36.8834</td>\n",
       "      <td>45.2641</td>\n",
       "      <td>45.5815</td>\n",
       "      <td>35.143319</td>\n",
       "    </tr>\n",
       "    <tr>\n",
       "      <th>min</th>\n",
       "      <td>0.0000</td>\n",
       "      <td>18.0000</td>\n",
       "      <td>18.0000</td>\n",
       "      <td>18.0000</td>\n",
       "      <td>18.000000</td>\n",
       "    </tr>\n",
       "    <tr>\n",
       "      <th>max</th>\n",
       "      <td>100.0000</td>\n",
       "      <td>96.0000</td>\n",
       "      <td>96.0000</td>\n",
       "      <td>96.0000</td>\n",
       "      <td>96.000000</td>\n",
       "    </tr>\n",
       "  </tbody>\n",
       "</table>\n",
       "</div>"
      ],
      "text/plain": [
       "               A        B        C        D       real\n",
       "median   50.0000  32.0000  38.0000  40.0000  32.000000\n",
       "mean     50.3008  36.8834  45.2641  45.5815  35.143319\n",
       "min       0.0000  18.0000  18.0000  18.0000  18.000000\n",
       "max     100.0000  96.0000  96.0000  96.0000  96.000000"
      ]
     },
     "execution_count": 19,
     "metadata": {
      "tags": []
     },
     "output_type": "execute_result"
    }
   ],
   "source": [
    "df_stats = pd.DataFrame({\"A\": A_compas, \n",
    "                         \"B\": B_compas,\n",
    "                         \"C\": C_compas,\n",
    "                         \"D\": D_compas,\n",
    "                         \"real\": real_compas},\n",
    "                        index = ['median','mean','min','max'])\n",
    "df_stats"
   ]
  },
  {
   "cell_type": "markdown",
   "metadata": {
    "id": "VFft7JHoUkp0"
   },
   "source": [
    "In the random mode, we replace the feature(s) that we want to protect with random values drawn from a uniform distribution. So we can see that the median, mean, min, and max of the random mode are considered to be the furtherest from the real data file. \n",
    "\n",
    "\n",
    "In the indpendent attribute mode, we replace the feature we want to protect with values that follow the same distribution as the original data. However, we do not consider any other features when determining the new value for the sensitive feature. we can see that median, mean, min, max of the age feature are considered to be the closet to the actual compas dataset. \n",
    "\n",
    "\n",
    "In the correlated attribute mode with Bayesian network degree k=1 and k=2, we replace the feature we want to protect with values based on the conditional distribution of all the features in the database. This is calculated using a Bayesian network. We can see that the min, max of the correlated attribute mode conincide with the actual compas dataset. However, the median and mean are bit far off with the actual compas dataset."
   ]
  },
  {
   "cell_type": "markdown",
   "metadata": {
    "id": "ZFgyc2B4FdZ6"
   },
   "source": [
    "### Q2\n",
    "\n",
    "Plot the distributions of values of age and sex attributes in hw_compas and in synthetic datasets generated under settings A and B. \n",
    "Some more sophisticated statistical measure that’s good for independent attribute mode - __Two-sample Kolmogorov–Smirnov test__ and __KL-divergence__. Also show the difference visually, comparing real vs. synthetic"
   ]
  },
  {
   "cell_type": "markdown",
   "metadata": {
    "id": "g-Or3PInFdan"
   },
   "source": [
    "#### Two-sample Kolmogorov–Smirnov test for continous attributes"
   ]
  },
  {
   "cell_type": "code",
   "execution_count": 20,
   "metadata": {
    "id": "yTzh1CM6Fdap"
   },
   "outputs": [],
   "source": [
    "def ks_test(df_in: pd.DataFrame, df_out: pd.DataFrame, attr: str):\n",
    "    \"\"\"\n",
    "    df_in: the sensitive dataset\n",
    "    df_out: the synthetic dataset\n",
    "    attr: the attribute that will be calculated for Two-sample Kolmogorov–Smirnov test.\n",
    "    \"\"\"\n",
    "    return ks_2samp(df_in[attr], df_out[attr])[0]"
   ]
  },
  {
   "cell_type": "markdown",
   "metadata": {
    "id": "X1eUjSSxFda3"
   },
   "source": [
    "#### KL-divergence for categorical attributes"
   ]
  },
  {
   "cell_type": "code",
   "execution_count": 21,
   "metadata": {
    "id": "cidvm1mAFda3"
   },
   "outputs": [],
   "source": [
    "def get_distribution_of_categorical_attribute(attribute: pd.Series, indicies=None):\n",
    "    distribution = attribute.dropna().value_counts()\n",
    "    if indicies is not None:\n",
    "        for idx in set(indicies) - set(distribution.index):\n",
    "            distribution.loc[idx] = 0\n",
    "    distribution.sort_index(inplace=True)\n",
    "    return distribution/sum(distribution)\n",
    "\n",
    "def kl_test(df_in: pd.DataFrame, df_out: pd.DataFrame, attr: str):\n",
    "    \"\"\"\n",
    "    df_in: the sensitive dataset\n",
    "    df_out: the synthetic dataset\n",
    "    attr: the attribute that will be calculated for KL-divergence.\n",
    "    \"\"\"\n",
    "    distribution_in = get_distribution_of_categorical_attribute(df_in[attr])\n",
    "    distribution_out = get_distribution_of_categorical_attribute(df_out[attr], distribution_in.index)\n",
    "    return entropy(distribution_out, distribution_in)"
   ]
  },
  {
   "cell_type": "markdown",
   "metadata": {
    "id": "vIrw0BgGqTEJ"
   },
   "source": [
    "# Plot the distributions of values of age and sex attributes in hw_compas and in synthetic datasets generated under settings A and B"
   ]
  },
  {
   "cell_type": "code",
   "execution_count": 22,
   "metadata": {
    "colab": {
     "base_uri": "https://localhost:8080/",
     "height": 284
    },
    "id": "NW3p0bH5QKGn",
    "outputId": "ba3a92e1-a4c0-4e0a-fa3f-98b05623ef8e"
   },
   "outputs": [
    {
     "data": {
      "image/png": "[encoded data removed]",
      "text/plain": [
       "<Figure size 432x288 with 1 Axes>"
      ]
     },
     "metadata": {
      "needs_background": "light",
      "tags": []
     },
     "output_type": "display_data"
    }
   ],
   "source": [
    "plt.hist(df_real.age)\n",
    "plt.title('Real age')\n",
    "plt.show()\n"
   ]
  },
  {
   "cell_type": "code",
   "execution_count": 23,
   "metadata": {
    "colab": {
     "base_uri": "https://localhost:8080/",
     "height": 284
    },
    "id": "V9gWRJrtWVjA",
    "outputId": "e4f9c941-8502-4d9a-fd7c-840f984c8ceb"
   },
   "outputs": [
    {
     "data": {
      "image/png": "[encoded data removed]",
      "text/plain": [
       "<Figure size 432x288 with 1 Axes>"
      ]
     },
     "metadata": {
      "needs_background": "light",
      "tags": []
     },
     "output_type": "display_data"
    }
   ],
   "source": [
    "plt.hist(synthetic_random_compas.age)\n",
    "plt.title('random age')\n",
    "plt.show()"
   ]
  },
  {
   "cell_type": "code",
   "execution_count": 24,
   "metadata": {
    "colab": {
     "base_uri": "https://localhost:8080/",
     "height": 284
    },
    "id": "Y2XALFMJWbTa",
    "outputId": "62840907-826b-4802-95cb-7516221c64ff"
   },
   "outputs": [
    {
     "data": {
      "image/png": "[encoded data removed]",
      "text/plain": [
       "<Figure size 432x288 with 1 Axes>"
      ]
     },
     "metadata": {
      "needs_background": "light",
      "tags": []
     },
     "output_type": "display_data"
    }
   ],
   "source": [
    "plt.hist(synthetic_independent_compas.age)\n",
    "plt.title('independent age')\n",
    "plt.show()"
   ]
  },
  {
   "cell_type": "markdown",
   "metadata": {
    "id": "4HslAerAqbfL"
   },
   "source": [
    "Distributions of values of age in hw_compas and in synthetic datasets generated under random mode appears to be uniform. Since I know in advance that we replace the feature(s) that we want to protect with random values drawn from a uniform distribution. It is reasonable that the age distribution is uniform. \n",
    "\n",
    "Distributions of values of age in hw_compas and in synthetic datasets generated under independent mode appears to be very close to the compas's actual age distribution. Since we know in advance that in independent attribute mode, we replace the feature we want to protect with values that follow the same distribution as the original data. So it is reasonable that the age distribution of the synthetic data is close to the actual distribution. \n",
    "\n",
    "\n"
   ]
  },
  {
   "cell_type": "markdown",
   "metadata": {
    "id": "BtMyLIeXWikS"
   },
   "source": [
    "# Plot the distributions of values of sex attributes in hw_compas and in synthetic datasets generated under settings A and B"
   ]
  },
  {
   "cell_type": "code",
   "execution_count": 25,
   "metadata": {
    "colab": {
     "base_uri": "https://localhost:8080/",
     "height": 284
    },
    "id": "MvD4A7-yVARU",
    "outputId": "f0cc1b30-6dc6-41ff-a0c6-d4f528554e12"
   },
   "outputs": [
    {
     "data": {
      "image/png": "[encoded data removed]",
      "text/plain": [
       "<Figure size 432x288 with 1 Axes>"
      ]
     },
     "metadata": {
      "needs_background": "light",
      "tags": []
     },
     "output_type": "display_data"
    }
   ],
   "source": [
    "plt.hist(df_real.sex)\n",
    "plt.title('real sex')\n",
    "plt.show()"
   ]
  },
  {
   "cell_type": "code",
   "execution_count": 26,
   "metadata": {
    "colab": {
     "base_uri": "https://localhost:8080/",
     "height": 284
    },
    "id": "MPCkjQh2Wtiz",
    "outputId": "69ff4837-f343-42b2-cd9f-042405bdd188"
   },
   "outputs": [
    {
     "data": {
      "image/png": "[encoded data removed]",
      "text/plain": [
       "<Figure size 432x288 with 1 Axes>"
      ]
     },
     "metadata": {
      "needs_background": "light",
      "tags": []
     },
     "output_type": "display_data"
    }
   ],
   "source": [
    "plt.hist(synthetic_random_compas.sex)\n",
    "plt.title('random sex')\n",
    "plt.show()"
   ]
  },
  {
   "cell_type": "code",
   "execution_count": 27,
   "metadata": {
    "colab": {
     "base_uri": "https://localhost:8080/",
     "height": 284
    },
    "id": "-e06vI8VWu64",
    "outputId": "3a686569-340b-4591-b068-80f2eba67003"
   },
   "outputs": [
    {
     "data": {
      "image/png": "[encoded data removed]",
      "text/plain": [
       "<Figure size 432x288 with 1 Axes>"
      ]
     },
     "metadata": {
      "needs_background": "light",
      "tags": []
     },
     "output_type": "display_data"
    }
   ],
   "source": [
    "plt.hist(synthetic_independent_compas.sex)\n",
    "plt.title('independent sex')\n",
    "plt.show()"
   ]
  },
  {
   "cell_type": "markdown",
   "metadata": {
    "id": "KqRcob10tE5i"
   },
   "source": [
    "Distributions of values of sex in hw_compas and in synthetic datasets generated under random mode appears to be pretty balanced. Since I know in advance that we replace the feature(s) that we want to protect with random values drawn from a uniform distribution. It is reasonable that the sex distribution is pretty balanced between male and female.\n",
    "\n",
    "Distributions of values of sex in hw_compas and in synthetic datasets generated under independent mode appears to be very close to the compas's actual sex distribution. Since we know in advance that in independent attribute mode, we replace the feature we want to protect with values that follow the same distribution as the original data. So it is reasonable that the sex distribution of the synthetic data is close to the actual distribution."
   ]
  },
  {
   "cell_type": "markdown",
   "metadata": {
    "id": "QaYAaL07adTy"
   },
   "source": [
    "Two-sample Kolmogorov-Smirnov test (KS test) for the numerical\n",
    "attribute age"
   ]
  },
  {
   "cell_type": "code",
   "execution_count": 28,
   "metadata": {
    "colab": {
     "base_uri": "https://localhost:8080/"
    },
    "id": "UjSwIIKvaf0V",
    "outputId": "8465892b-0504-4287-b5ad-c0538a95b25c"
   },
   "outputs": [
    {
     "data": {
      "text/plain": [
       "0.373353049247257"
      ]
     },
     "execution_count": 28,
     "metadata": {
      "tags": []
     },
     "output_type": "execute_result"
    }
   ],
   "source": [
    "#under condition A \n",
    "ks_test(df_real, synthetic_random_compas, 'age')"
   ]
  },
  {
   "cell_type": "code",
   "execution_count": 29,
   "metadata": {
    "colab": {
     "base_uri": "https://localhost:8080/"
    },
    "id": "kxqo5aLrazIu",
    "outputId": "b185af0d-d441-49c3-8922-9157ee8b9923"
   },
   "outputs": [
    {
     "data": {
      "text/plain": [
       "0.053053049247256956"
      ]
     },
     "execution_count": 29,
     "metadata": {
      "tags": []
     },
     "output_type": "execute_result"
    }
   ],
   "source": [
    "#under condition B\n",
    "ks_test(df_real, synthetic_independent_compas, 'age')"
   ]
  },
  {
   "cell_type": "markdown",
   "metadata": {
    "id": "aNhz0Fd0yPkC"
   },
   "source": [
    "The Kolmogorov-Smirnov test quantifies the similarity between the empirical distribution functions two sets of data. We can use it to measure how well the distribution of our synthetic data mimics the distribution of the original dataset. The Kolmogorov–Smirnov test statistic is the maxium distance between the two CDFs. \n",
    "\n",
    "we could see that under the condition A, the ks test score is pretty large which make sense since the synthetic age distribution is uniformly distributed and different from the actual age distribution. Therefore, the maximum distance between the two CDFs is relatively large, and ks score is quite large. \n",
    "\n",
    "On the other hand, under the condition B, the ks test score is relatively small, which also make sense since the synthetic age distribution ought be similar to the actual distribution. Therefore, the maximum distance between the two CDFs is relatively small, and in turn the ks score is small. "
   ]
  },
  {
   "cell_type": "markdown",
   "metadata": {
    "id": "qJuwz6P5a8_m"
   },
   "source": [
    "Kullback-Leibler divergence (KL-divergence) for the categorical attribute sex "
   ]
  },
  {
   "cell_type": "code",
   "execution_count": 30,
   "metadata": {
    "colab": {
     "base_uri": "https://localhost:8080/"
    },
    "id": "0eJqrmu_a8Mz",
    "outputId": "388fa6bd-1081-40ce-9ac6-d51ccd948733"
   },
   "outputs": [
    {
     "data": {
      "text/plain": [
       "0.22388927416119944"
      ]
     },
     "execution_count": 30,
     "metadata": {
      "tags": []
     },
     "output_type": "execute_result"
    }
   ],
   "source": [
    "#under condition A \n",
    "kl_test(df_real, synthetic_random_compas, 'sex')"
   ]
  },
  {
   "cell_type": "code",
   "execution_count": 31,
   "metadata": {
    "colab": {
     "base_uri": "https://localhost:8080/"
    },
    "id": "NZGWWHxxbiTO",
    "outputId": "c5fd2e5c-a552-4bbc-ffad-68bc4a3bf597"
   },
   "outputs": [
    {
     "data": {
      "text/plain": [
       "7.844002303542246e-05"
      ]
     },
     "execution_count": 31,
     "metadata": {
      "tags": []
     },
     "output_type": "execute_result"
    }
   ],
   "source": [
    "#under condition B \n",
    "kl_test(df_real, synthetic_independent_compas, 'sex')"
   ]
  },
  {
   "cell_type": "markdown",
   "metadata": {
    "id": "uFHQP96_2WSr"
   },
   "source": [
    "The KL-divergence is an alternative way to measure the difference between two distributions. This metric works on discrete/categorical variables.\n",
    "\n",
    "we could see that under the condition A, the kl test score is pretty large which make sense since the synthetic sex should be uniformly distributed between female and male which is different from the actual sex distribution. Therefore, the ks score is quite large.\n",
    "\n",
    "On the other hand, under the condition B, the kl test score is relatively small, which also make sense since the synthetic sex distribution ought be similar to the actual distribution. Therefore, the kl score is small.\n"
   ]
  },
  {
   "cell_type": "markdown",
   "metadata": {
    "id": "XKzIAfI9FdbD"
   },
   "source": [
    "### Q3\n",
    "\n",
    "Compare the accuracy of correlated attribute mode with k=1 (C) and with k=2 (D). Display the __pairwise mutual information matrix by heatmaps__, showing mutual information between all pairs of attributes, in hw_fake and in two synthetic datasets (generated under C and D)."
   ]
  },
  {
   "cell_type": "code",
   "execution_count": 32,
   "metadata": {
    "id": "vxgNbC60FdbE"
   },
   "outputs": [],
   "source": [
    "# Use pairwise_attributes_mutual_information function. \n",
    "# For function parameters, refer to https://github.com/DataResponsibly/DataSynthesizer/blob/master/DataSynthesizer/lib/utils.py#L31\n"
   ]
  },
  {
   "cell_type": "code",
   "execution_count": 33,
   "metadata": {
    "colab": {
     "base_uri": "https://localhost:8080/",
     "height": 173
    },
    "id": "0_3zlUUlir4t",
    "outputId": "037d3c01-6a08-48b0-b96b-5d9cc53a0c45"
   },
   "outputs": [
    {
     "data": {
      "text/html": [
       "<div>\n",
       "<style scoped>\n",
       "    .dataframe tbody tr th:only-of-type {\n",
       "        vertical-align: middle;\n",
       "    }\n",
       "\n",
       "    .dataframe tbody tr th {\n",
       "        vertical-align: top;\n",
       "    }\n",
       "\n",
       "    .dataframe thead th {\n",
       "        text-align: right;\n",
       "    }\n",
       "</style>\n",
       "<table border=\"1\" class=\"dataframe\">\n",
       "  <thead>\n",
       "    <tr style=\"text-align: right;\">\n",
       "      <th></th>\n",
       "      <th>child_1</th>\n",
       "      <th>child_2</th>\n",
       "      <th>parent_1</th>\n",
       "      <th>parent_2</th>\n",
       "    </tr>\n",
       "  </thead>\n",
       "  <tbody>\n",
       "    <tr>\n",
       "      <th>child_1</th>\n",
       "      <td>1.000000</td>\n",
       "      <td>0.007344</td>\n",
       "      <td>0.000981</td>\n",
       "      <td>0.289825</td>\n",
       "    </tr>\n",
       "    <tr>\n",
       "      <th>child_2</th>\n",
       "      <td>0.007344</td>\n",
       "      <td>1.000000</td>\n",
       "      <td>0.194178</td>\n",
       "      <td>0.130105</td>\n",
       "    </tr>\n",
       "    <tr>\n",
       "      <th>parent_1</th>\n",
       "      <td>0.000981</td>\n",
       "      <td>0.194178</td>\n",
       "      <td>1.000000</td>\n",
       "      <td>0.027984</td>\n",
       "    </tr>\n",
       "    <tr>\n",
       "      <th>parent_2</th>\n",
       "      <td>0.289825</td>\n",
       "      <td>0.130105</td>\n",
       "      <td>0.027984</td>\n",
       "      <td>1.000000</td>\n",
       "    </tr>\n",
       "  </tbody>\n",
       "</table>\n",
       "</div>"
      ],
      "text/plain": [
       "           child_1   child_2  parent_1  parent_2\n",
       "child_1   1.000000  0.007344  0.000981  0.289825\n",
       "child_2   0.007344  1.000000  0.194178  0.130105\n",
       "parent_1  0.000981  0.194178  1.000000  0.027984\n",
       "parent_2  0.289825  0.130105  0.027984  1.000000"
      ]
     },
     "execution_count": 33,
     "metadata": {
      "tags": []
     },
     "output_type": "execute_result"
    }
   ],
   "source": [
    "pairwise_attributes_mutual_information(synthetic_correlated_1_fake)"
   ]
  },
  {
   "cell_type": "code",
   "execution_count": 35,
   "metadata": {
    "colab": {
     "base_uri": "https://localhost:8080/",
     "height": 173
    },
    "id": "mYKfgFmjiwLD",
    "outputId": "ac165425-4cf6-4e86-a3d6-c4772ab9cc79"
   },
   "outputs": [
    {
     "data": {
      "text/html": [
       "<div>\n",
       "<style scoped>\n",
       "    .dataframe tbody tr th:only-of-type {\n",
       "        vertical-align: middle;\n",
       "    }\n",
       "\n",
       "    .dataframe tbody tr th {\n",
       "        vertical-align: top;\n",
       "    }\n",
       "\n",
       "    .dataframe thead th {\n",
       "        text-align: right;\n",
       "    }\n",
       "</style>\n",
       "<table border=\"1\" class=\"dataframe\">\n",
       "  <thead>\n",
       "    <tr style=\"text-align: right;\">\n",
       "      <th></th>\n",
       "      <th>child_1</th>\n",
       "      <th>child_2</th>\n",
       "      <th>parent_1</th>\n",
       "      <th>parent_2</th>\n",
       "    </tr>\n",
       "  </thead>\n",
       "  <tbody>\n",
       "    <tr>\n",
       "      <th>child_1</th>\n",
       "      <td>1.000000</td>\n",
       "      <td>0.211242</td>\n",
       "      <td>0.214345</td>\n",
       "      <td>0.195899</td>\n",
       "    </tr>\n",
       "    <tr>\n",
       "      <th>child_2</th>\n",
       "      <td>0.211242</td>\n",
       "      <td>1.000000</td>\n",
       "      <td>0.208301</td>\n",
       "      <td>0.200690</td>\n",
       "    </tr>\n",
       "    <tr>\n",
       "      <th>parent_1</th>\n",
       "      <td>0.214345</td>\n",
       "      <td>0.208301</td>\n",
       "      <td>1.000000</td>\n",
       "      <td>0.002421</td>\n",
       "    </tr>\n",
       "    <tr>\n",
       "      <th>parent_2</th>\n",
       "      <td>0.195899</td>\n",
       "      <td>0.200690</td>\n",
       "      <td>0.002421</td>\n",
       "      <td>1.000000</td>\n",
       "    </tr>\n",
       "  </tbody>\n",
       "</table>\n",
       "</div>"
      ],
      "text/plain": [
       "           child_1   child_2  parent_1  parent_2\n",
       "child_1   1.000000  0.211242  0.214345  0.195899\n",
       "child_2   0.211242  1.000000  0.208301  0.200690\n",
       "parent_1  0.214345  0.208301  1.000000  0.002421\n",
       "parent_2  0.195899  0.200690  0.002421  1.000000"
      ]
     },
     "execution_count": 35,
     "metadata": {
      "tags": []
     },
     "output_type": "execute_result"
    }
   ],
   "source": [
    "pairwise_attributes_mutual_information(df_fake)"
   ]
  },
  {
   "cell_type": "markdown",
   "metadata": {
    "id": "Lb1gzURvILJt"
   },
   "source": [
    "We know that mutual information is defined as follows for two discrete variables X and Y, \n",
    "$$I(X; Y) = \\sum_{y \\in Y} \\sum_{x \\in X} p(x,y) \\log(\\frac{p(x,y)}{p(x)p(y)})$$\n",
    "\n",
    "Higher values indicate greater levels of mutual information. We could use the calculated mutual information scores to see how well the relationships between features are preserved in the synthetic data. "
   ]
  },
  {
   "cell_type": "markdown",
   "metadata": {
    "id": "FkpZDsWzJnaU"
   },
   "source": [
    "From the Correlated attribute mode with k=1 (C) pairwise mutual information comparison plot, \n",
    "\n",
    "we could see that the mutual information score of child 1 and parent 2 in the synthetic data(0.289825) is similar to the score of the fake data set(0.195899). So the relationship between child 1 and parent 2 is preserved. \n",
    "\n",
    "However, the mutual information score of child 1 and parent 1 in the synthetic data is far off from the fake data set. In the synthetic dataset, the score is 0.000981, but in the fake data file, the score is 0.214345. The relationship is not preserved. \n",
    "\n",
    "we could see that the mutual information score of child 2 and parent 1 in the synthetic data(0.194178) is similar to the score of the fake data set(0.208301). So the relationship between child 2 and parent 1 is preserved. \n",
    "\n",
    "we could also see that the mutual information score of child 2 and parent 2 in the synthetic data(0.130105) is kind of close to the score of the fake data set(0.200690). So the relationship between child 2 and parent 2 is kind of preserved. \n",
    "\n",
    "Since the parent 1 and parent 2 take on the value independently, these two variables ought to have a close to 0 mutual information score. This is shown in the fake data file.In the synthetic data file, this characteristic is shown because the synthetic score (0.027984) is close to 0. The relationship of parent 1 and parent 2 is kind of preserved. \n",
    "\n",
    "Since the child 1 and child 2 take on the value of parent 1 or parent 2 with equal chances with equal chances, there should exist some level of mutual information. This is shown in the fake data file, the score between child 1 and child 2 is 0.211242, however, in the synthetic data, the score is way lower(0.007344). The relationship of child 1 and child 2 is not preserved. \n",
    "\n"
   ]
  },
  {
   "cell_type": "code",
   "execution_count": 41,
   "metadata": {
    "colab": {
     "base_uri": "https://localhost:8080/",
     "height": 173
    },
    "id": "sJR6OhikTyvT",
    "outputId": "503cfb02-d04f-4fea-94e7-d424e6a4ce07"
   },
   "outputs": [
    {
     "data": {
      "text/html": [
       "<div>\n",
       "<style scoped>\n",
       "    .dataframe tbody tr th:only-of-type {\n",
       "        vertical-align: middle;\n",
       "    }\n",
       "\n",
       "    .dataframe tbody tr th {\n",
       "        vertical-align: top;\n",
       "    }\n",
       "\n",
       "    .dataframe thead th {\n",
       "        text-align: right;\n",
       "    }\n",
       "</style>\n",
       "<table border=\"1\" class=\"dataframe\">\n",
       "  <thead>\n",
       "    <tr style=\"text-align: right;\">\n",
       "      <th></th>\n",
       "      <th>child_1</th>\n",
       "      <th>child_2</th>\n",
       "      <th>parent_1</th>\n",
       "      <th>parent_2</th>\n",
       "    </tr>\n",
       "  </thead>\n",
       "  <tbody>\n",
       "    <tr>\n",
       "      <th>child_1</th>\n",
       "      <td>1.000000</td>\n",
       "      <td>0.211242</td>\n",
       "      <td>0.214345</td>\n",
       "      <td>0.195899</td>\n",
       "    </tr>\n",
       "    <tr>\n",
       "      <th>child_2</th>\n",
       "      <td>0.211242</td>\n",
       "      <td>1.000000</td>\n",
       "      <td>0.208301</td>\n",
       "      <td>0.200690</td>\n",
       "    </tr>\n",
       "    <tr>\n",
       "      <th>parent_1</th>\n",
       "      <td>0.214345</td>\n",
       "      <td>0.208301</td>\n",
       "      <td>1.000000</td>\n",
       "      <td>0.002421</td>\n",
       "    </tr>\n",
       "    <tr>\n",
       "      <th>parent_2</th>\n",
       "      <td>0.195899</td>\n",
       "      <td>0.200690</td>\n",
       "      <td>0.002421</td>\n",
       "      <td>1.000000</td>\n",
       "    </tr>\n",
       "  </tbody>\n",
       "</table>\n",
       "</div>"
      ],
      "text/plain": [
       "           child_1   child_2  parent_1  parent_2\n",
       "child_1   1.000000  0.211242  0.214345  0.195899\n",
       "child_2   0.211242  1.000000  0.208301  0.200690\n",
       "parent_1  0.214345  0.208301  1.000000  0.002421\n",
       "parent_2  0.195899  0.200690  0.002421  1.000000"
      ]
     },
     "execution_count": 41,
     "metadata": {
      "tags": []
     },
     "output_type": "execute_result"
    }
   ],
   "source": [
    "pairwise_attributes_mutual_information(df_fake)"
   ]
  },
  {
   "cell_type": "code",
   "execution_count": 37,
   "metadata": {
    "colab": {
     "base_uri": "https://localhost:8080/",
     "height": 173
    },
    "id": "KBKYOfs0JlW4",
    "outputId": "c2853dea-8a00-40d2-fca3-5b2c683400ba"
   },
   "outputs": [
    {
     "data": {
      "text/html": [
       "<div>\n",
       "<style scoped>\n",
       "    .dataframe tbody tr th:only-of-type {\n",
       "        vertical-align: middle;\n",
       "    }\n",
       "\n",
       "    .dataframe tbody tr th {\n",
       "        vertical-align: top;\n",
       "    }\n",
       "\n",
       "    .dataframe thead th {\n",
       "        text-align: right;\n",
       "    }\n",
       "</style>\n",
       "<table border=\"1\" class=\"dataframe\">\n",
       "  <thead>\n",
       "    <tr style=\"text-align: right;\">\n",
       "      <th></th>\n",
       "      <th>child_1</th>\n",
       "      <th>child_2</th>\n",
       "      <th>parent_1</th>\n",
       "      <th>parent_2</th>\n",
       "    </tr>\n",
       "  </thead>\n",
       "  <tbody>\n",
       "    <tr>\n",
       "      <th>child_1</th>\n",
       "      <td>1.000000</td>\n",
       "      <td>0.155061</td>\n",
       "      <td>0.043875</td>\n",
       "      <td>0.042497</td>\n",
       "    </tr>\n",
       "    <tr>\n",
       "      <th>child_2</th>\n",
       "      <td>0.155061</td>\n",
       "      <td>1.000000</td>\n",
       "      <td>0.183781</td>\n",
       "      <td>0.059603</td>\n",
       "    </tr>\n",
       "    <tr>\n",
       "      <th>parent_1</th>\n",
       "      <td>0.043875</td>\n",
       "      <td>0.183781</td>\n",
       "      <td>1.000000</td>\n",
       "      <td>0.072291</td>\n",
       "    </tr>\n",
       "    <tr>\n",
       "      <th>parent_2</th>\n",
       "      <td>0.042497</td>\n",
       "      <td>0.059603</td>\n",
       "      <td>0.072291</td>\n",
       "      <td>1.000000</td>\n",
       "    </tr>\n",
       "  </tbody>\n",
       "</table>\n",
       "</div>"
      ],
      "text/plain": [
       "           child_1   child_2  parent_1  parent_2\n",
       "child_1   1.000000  0.155061  0.043875  0.042497\n",
       "child_2   0.155061  1.000000  0.183781  0.059603\n",
       "parent_1  0.043875  0.183781  1.000000  0.072291\n",
       "parent_2  0.042497  0.059603  0.072291  1.000000"
      ]
     },
     "execution_count": 37,
     "metadata": {
      "tags": []
     },
     "output_type": "execute_result"
    }
   ],
   "source": [
    "pairwise_attributes_mutual_information(synthetic_correlated_2_fake)"
   ]
  },
  {
   "cell_type": "markdown",
   "metadata": {
    "id": "ROj5j-CUURsC"
   },
   "source": [
    "From the Correlated attribute mode with k=2 (D) pairwise mutual information comparison plot, \n",
    "\n",
    "we could see that the mutual information score of child 1 and parent 2 in the synthetic data(0.042497) is far from the score of the fake data set(0.195899). So the relationship between child 1 and parent 2 is not preserved. \n",
    "\n",
    "The mutual information score of child 1 and parent 1 in the synthetic data is far off from the fake data set. In the synthetic dataset, the score is 0.214345, but in the fake data file, the score is 0.043875. The relationship is not preserved. \n",
    "\n",
    "we could see that the mutual information score of child 2 and parent 1 in the synthetic data(0.183781) is similar to the score of the fake data set(0.208301). So the relationship between child 2 and parent 1 is preserved. \n",
    "\n",
    "we could also see that the mutual information score of child 2 and parent 2 in the synthetic data(0.059603) is far from the score of the fake data set(0.200690). So the relationship between child 2 and parent 2 is not preserved. \n",
    "\n",
    "Since the parent 1 and parent 2 take on the value independently, these two variables ought to have a close to 0 mutual information score. This is shown in the fake data file.In the synthetic data file, this characteristic is shown because the synthetic score (0.072291) is close to 0. The relationship of parent 1 and parent 2 is kind of preserved. \n",
    "\n",
    "Since the child 1 and child 2 take on the value of parent 1 or parent 2 with equal chances with equal chances, there should exist some level of mutual information. This is shown in the fake data file, the score between child 1 and child 2 is 0.211242. In the synthetic data, the score is 0.155061. The relationship of child 1 and child 2 is kind of preserved. \n",
    "\n"
   ]
  },
  {
   "cell_type": "markdown",
   "metadata": {
    "id": "sQ1vUqwOYxiq"
   },
   "source": [
    "All in all, I would say that the correlated attribute with k = 1 preserve the relationships between attributes better than the correlated attribute with k = 2. I think this is because the original fake data file there is only 1 parent for each children. So the k = 1 correlated attribute mode (each children would have 1 parent) would be able to preserve the correlation between the variable. However, the k = 2 correlated attribute mode(each children have maximum 2 parents), it is unable to preserve the correlations between the variables as well because there are too much information provided to the network, making the synthetic data carry unnecessary “correlation”. "
   ]
  },
  {
   "cell_type": "code",
   "execution_count": 36,
   "metadata": {
    "colab": {
     "base_uri": "https://localhost:8080/",
     "height": 485
    },
    "id": "xyf52mfPFdbX",
    "outputId": "a8eedbb8-4481-447a-e253-c7cd2c53c346"
   },
   "outputs": [
    {
     "data": {
      "image/png": "[encoded data removed]",
      "text/plain": [
       "<Figure size 1800x720 with 4 Axes>"
      ]
     },
     "metadata": {
      "needs_background": "light",
      "tags": []
     },
     "output_type": "display_data"
    }
   ],
   "source": [
    "# Use can sns.heatmap for pairwise mutual information\n",
    "# For examples, refer to https://seaborn.pydata.org/generated/seaborn.heatmap.html\n",
    "attribute_description_1 = read_json_file(description_files_fake['correlated attribute mode 1'])['attribute_description']\n",
    "ModelInspector(df_fake,synthetic_correlated_1_fake, attribute_description_1).mutual_information_heatmap()"
   ]
  },
  {
   "cell_type": "code",
   "execution_count": 39,
   "metadata": {
    "colab": {
     "base_uri": "https://localhost:8080/",
     "height": 485
    },
    "id": "xFSCJnkYAp0L",
    "outputId": "19aa9494-0650-46ea-d29d-9bb4e5c39749"
   },
   "outputs": [
    {
     "data": {
      "image/png": "[encoded data removed]",
      "text/plain": [
       "<Figure size 1800x720 with 4 Axes>"
      ]
     },
     "metadata": {
      "needs_background": "light",
      "tags": []
     },
     "output_type": "display_data"
    }
   ],
   "source": [
    "attribute_description_2 = read_json_file(description_files_fake['correlated attribute mode 2'])['attribute_description']\n",
    "ModelInspector(df_fake,synthetic_correlated_2_fake, attribute_description_2).mutual_information_heatmap()"
   ]
  },
  {
   "cell_type": "markdown",
   "metadata": {
    "id": "FpoWEnYTFdbb"
   },
   "source": [
    "## Part (b)\n",
    "\n",
    "Study the variability in accuracy of answers to Q1 and Q2 for data generation mode A, B and C: fix epsilon = 0.1, generate __10__ synthetic databases (by specifying different seeds).  Plot accuracy as a box-and-whiskers plot.  "
   ]
  },
  {
   "cell_type": "code",
   "execution_count": null,
   "metadata": {
    "id": "zUbmv6w3Fdbg"
   },
   "outputs": [],
   "source": [
    "# You can use sns.boxplot for the plots\n",
    "# For examples, refer to https://seaborn.pydata.org/generated/seaborn.boxplot.html"
   ]
  },
  {
   "cell_type": "code",
   "execution_count": 44,
   "metadata": {
    "id": "YBXy0dJt3Fsc"
   },
   "outputs": [],
   "source": [
    "#created path for the part B\n",
    "description_files_compasB = {'random mode':                   'description(random).json', \n",
    "                     'independent attribute mode':    'description(independent).json', \n",
    "                     'correlated attribute mode 1':     'description(correlated 1).json',\n",
    "                     }\n",
    "synthetic_data_files_compasB = {'random mode':                'synthetic data(random).csv', \n",
    "                        'independent attribute mode': 'synthetic data(independent).csv', \n",
    "                        'correlated attribute mode 1':  'synthetic data(correlated 1).csv'}\n",
    "   "
   ]
  },
  {
   "cell_type": "markdown",
   "metadata": {
    "id": "Kehgqx_tb68P"
   },
   "source": [
    "# Random Mode "
   ]
  },
  {
   "cell_type": "code",
   "execution_count": 45,
   "metadata": {
    "colab": {
     "base_uri": "https://localhost:8080/"
    },
    "id": "Bqt4VeQdxJXo",
    "outputId": "ce34fa79-24bb-4ae5-c0a5-728fdc447d92"
   },
   "outputs": [
    {
     "name": "stdout",
     "output_type": "stream",
     "text": [
      "[50.0, 50.0, 50.0, 50.0, 49.0, 50.0, 49.0, 50.0, 50.0, 50.0] [49.9342, 50.0036, 50.1339, 50.2038, 49.7899, 49.8091, 49.7355, 49.9518, 49.9401, 49.6333] [0, 0, 0, 0, 0, 0, 0, 0, 0, 0] [100, 100, 100, 100, 100, 100, 100, 100, 100, 100]\n"
     ]
    }
   ],
   "source": [
    "\n",
    "random_medians = []\n",
    "random_means = []\n",
    "random_mins = []\n",
    "random_maxs = []\n",
    "seeds = [99,5,45,30,88,36,21,12,68,1]\n",
    "\n",
    "for seed in seeds:\n",
    "  current_seed = seed\n",
    "\n",
    "  describer.describe_dataset_in_random_mode(real_data_file) \n",
    "  describer.save_dataset_description_to_file(description_files_compasB['random mode'])\n",
    "  # generate in random mode\n",
    "  generator.generate_dataset_in_random_mode(n=output_data_size,description_file=description_files_compasB['random mode'],seed=current_seed,minimum=0, \n",
    "                                          maximum=100)\n",
    "  \n",
    "  #save the synethetic data \n",
    "  generator.save_synthetic_data(synthetic_data_files_compasB['random mode'])\n",
    "\n",
    "  #convert to dataframe\n",
    "  synthetic_random_compasB = pd.read_csv(synthetic_data_files_compasB['random mode'])\n",
    "  #calculate median\n",
    "  median = synthetic_random_compasB['age'].median()\n",
    "  random_medians.append(median)\n",
    "\n",
    "  #calculate mean\n",
    "  mean = synthetic_random_compasB['age'].mean()\n",
    "  random_means.append(mean)\n",
    "\n",
    "  #calculate min\n",
    "  min = synthetic_random_compasB['age'].min()\n",
    "  random_mins.append(min)\n",
    "\n",
    "  #calculate max\n",
    "  max = synthetic_random_compasB['age'].max()\n",
    "  random_maxs.append(max)\n",
    "\n",
    "\n",
    "\n",
    "\n"
   ]
  },
  {
   "cell_type": "code",
   "execution_count": 46,
   "metadata": {
    "id": "o5JZOxIUtBT-"
   },
   "outputs": [],
   "source": [
    "independet_medians = []\n",
    "independet_means = []\n",
    "independet_mins = []\n",
    "independet_maxs = []\n",
    "seeds = [99,5,45,30,88,36,21,12,68,1]\n",
    "for seed in seeds:\n",
    "  current_seed = seed\n",
    "\n",
    "  describer.describe_dataset_in_independent_attribute_mode(real_data_file, epsilon=0.1)\n",
    "  describer.save_dataset_description_to_file(description_files_compasB['independent attribute mode'])\n",
    "  # generate in independent attribute mode\n",
    "  generator.generate_dataset_in_independent_mode(n=output_data_size,description_file=description_files_compasB['independent attribute mode'],seed=current_seed, \n",
    "                                          )\n",
    "  \n",
    "  #save the synethetic data \n",
    "  generator.save_synthetic_data(synthetic_data_files_compasB['independent attribute mode'])\n",
    "\n",
    "  #convert to dataframe\n",
    "  synthetic_independent_compasB = pd.read_csv(synthetic_data_files_compasB['independent attribute mode'])\n",
    "  #calculate median\n",
    "  median = synthetic_independent_compasB['age'].median()\n",
    "  independet_medians.append(median)\n",
    "\n",
    "  #calculate mean\n",
    "  mean = synthetic_independent_compasB['age'].mean()\n",
    "  independet_means.append(mean)\n",
    "\n",
    "  #calculate min\n",
    "  min = synthetic_independent_compasB['age'].min()\n",
    "  independet_mins.append(min)\n",
    "\n",
    "  #calculate max\n",
    "  max = synthetic_independent_compasB['age'].max()\n",
    "  independet_maxs.append(max)\n",
    "\n",
    "\n"
   ]
  },
  {
   "cell_type": "code",
   "execution_count": 47,
   "metadata": {
    "colab": {
     "base_uri": "https://localhost:8080/"
    },
    "id": "KgyepFQQvY7J",
    "outputId": "703052f0-cc09-4496-b547-c2f750625b93"
   },
   "outputs": [
    {
     "name": "stdout",
     "output_type": "stream",
     "text": [
      "================ Constructing Bayesian Network (BN) ================\n",
      "Adding ROOT score\n",
      "Adding attribute age\n",
      "Adding attribute sex\n",
      "Adding attribute race\n",
      "========================== BN constructed ==========================\n",
      "================ Constructing Bayesian Network (BN) ================\n",
      "Adding ROOT score\n",
      "Adding attribute age\n",
      "Adding attribute sex\n",
      "Adding attribute race\n",
      "========================== BN constructed ==========================\n",
      "================ Constructing Bayesian Network (BN) ================\n",
      "Adding ROOT score\n",
      "Adding attribute age\n",
      "Adding attribute sex\n",
      "Adding attribute race\n",
      "========================== BN constructed ==========================\n",
      "================ Constructing Bayesian Network (BN) ================\n",
      "Adding ROOT score\n",
      "Adding attribute age\n",
      "Adding attribute sex\n",
      "Adding attribute race\n",
      "========================== BN constructed ==========================\n",
      "================ Constructing Bayesian Network (BN) ================\n",
      "Adding ROOT score\n",
      "Adding attribute age\n",
      "Adding attribute sex\n",
      "Adding attribute race\n",
      "========================== BN constructed ==========================\n",
      "================ Constructing Bayesian Network (BN) ================\n",
      "Adding ROOT score\n",
      "Adding attribute age\n",
      "Adding attribute sex\n",
      "Adding attribute race\n",
      "========================== BN constructed ==========================\n",
      "================ Constructing Bayesian Network (BN) ================\n",
      "Adding ROOT score\n",
      "Adding attribute age\n",
      "Adding attribute sex\n",
      "Adding attribute race\n",
      "========================== BN constructed ==========================\n",
      "================ Constructing Bayesian Network (BN) ================\n",
      "Adding ROOT score\n",
      "Adding attribute age\n",
      "Adding attribute sex\n",
      "Adding attribute race\n",
      "========================== BN constructed ==========================\n",
      "================ Constructing Bayesian Network (BN) ================\n",
      "Adding ROOT score\n",
      "Adding attribute age\n",
      "Adding attribute sex\n",
      "Adding attribute race\n",
      "========================== BN constructed ==========================\n",
      "================ Constructing Bayesian Network (BN) ================\n",
      "Adding ROOT score\n",
      "Adding attribute age\n",
      "Adding attribute sex\n",
      "Adding attribute race\n",
      "========================== BN constructed ==========================\n"
     ]
    }
   ],
   "source": [
    "correlated_medians = []\n",
    "correlated_means = []\n",
    "correlated_mins = []\n",
    "correlated_maxs = []\n",
    "seeds = [99,5,45,30,88,36,21,12,68,1]\n",
    "\n",
    "for seed in seeds:\n",
    "  current_seed = seed\n",
    "\n",
    "  describer.describe_dataset_in_correlated_attribute_mode(real_data_file, epsilon=0.1, k=1)\n",
    "  describer.save_dataset_description_to_file(description_files_compasB['correlated attribute mode 1'])\n",
    "  # generate in correlated attribute mode\n",
    "  generator.generate_dataset_in_correlated_attribute_mode(n=output_data_size,description_file=description_files_compasB['correlated attribute mode 1'],seed=current_seed, )\n",
    "  \n",
    "  #save the synethetic data \n",
    "  generator.save_synthetic_data(synthetic_data_files_compasB['correlated attribute mode 1'])\n",
    "\n",
    "  #convert to dataframe\n",
    "  synthetic_correlated_1_compasB = pd.read_csv(synthetic_data_files_compasB['correlated attribute mode 1'])\n",
    "  #calculate median\n",
    "  median =  synthetic_correlated_1_compasB['age'].median()\n",
    "  correlated_medians.append(median)\n",
    "\n",
    "  #calculate mean\n",
    "  mean =  synthetic_correlated_1_compasB['age'].mean()\n",
    "  correlated_means.append(mean)\n",
    "\n",
    "  #calculate min\n",
    "  min =  synthetic_correlated_1_compasB['age'].min()\n",
    "  correlated_mins.append(min)\n",
    "\n",
    "  #calculate max\n",
    "  max =  synthetic_correlated_1_compasB['age'].max()\n",
    "  correlated_maxs.append(max)\n",
    "\n",
    "\n"
   ]
  },
  {
   "cell_type": "code",
   "execution_count": 50,
   "metadata": {
    "colab": {
     "base_uri": "https://localhost:8080/",
     "height": 709
    },
    "id": "Ye0jAfStwRZC",
    "outputId": "1834bbdf-ed71-4354-d0cc-86d20b2966b4"
   },
   "outputs": [
    {
     "data": {
      "image/png": "[encoded data removed]",
      "text/plain": [
       "<Figure size 600x400 with 1 Axes>"
      ]
     },
     "metadata": {
      "needs_background": "light",
      "tags": []
     },
     "output_type": "display_data"
    },
    {
     "data": {
      "text/html": [
       "<div>\n",
       "<style scoped>\n",
       "    .dataframe tbody tr th:only-of-type {\n",
       "        vertical-align: middle;\n",
       "    }\n",
       "\n",
       "    .dataframe tbody tr th {\n",
       "        vertical-align: top;\n",
       "    }\n",
       "\n",
       "    .dataframe thead th {\n",
       "        text-align: right;\n",
       "    }\n",
       "</style>\n",
       "<table border=\"1\" class=\"dataframe\">\n",
       "  <thead>\n",
       "    <tr style=\"text-align: right;\">\n",
       "      <th></th>\n",
       "      <th>random</th>\n",
       "      <th>independent</th>\n",
       "      <th>correlated</th>\n",
       "    </tr>\n",
       "  </thead>\n",
       "  <tbody>\n",
       "    <tr>\n",
       "      <th>0</th>\n",
       "      <td>49.9342</td>\n",
       "      <td>37.2607</td>\n",
       "      <td>45.5042</td>\n",
       "    </tr>\n",
       "    <tr>\n",
       "      <th>1</th>\n",
       "      <td>50.0036</td>\n",
       "      <td>37.3839</td>\n",
       "      <td>45.8275</td>\n",
       "    </tr>\n",
       "    <tr>\n",
       "      <th>2</th>\n",
       "      <td>50.1339</td>\n",
       "      <td>37.1014</td>\n",
       "      <td>45.3002</td>\n",
       "    </tr>\n",
       "    <tr>\n",
       "      <th>3</th>\n",
       "      <td>50.2038</td>\n",
       "      <td>37.2785</td>\n",
       "      <td>45.7822</td>\n",
       "    </tr>\n",
       "    <tr>\n",
       "      <th>4</th>\n",
       "      <td>49.7899</td>\n",
       "      <td>37.0146</td>\n",
       "      <td>45.5119</td>\n",
       "    </tr>\n",
       "    <tr>\n",
       "      <th>5</th>\n",
       "      <td>49.8091</td>\n",
       "      <td>37.0951</td>\n",
       "      <td>45.4902</td>\n",
       "    </tr>\n",
       "    <tr>\n",
       "      <th>6</th>\n",
       "      <td>49.7355</td>\n",
       "      <td>37.1291</td>\n",
       "      <td>45.3118</td>\n",
       "    </tr>\n",
       "    <tr>\n",
       "      <th>7</th>\n",
       "      <td>49.9518</td>\n",
       "      <td>37.2115</td>\n",
       "      <td>45.6428</td>\n",
       "    </tr>\n",
       "    <tr>\n",
       "      <th>8</th>\n",
       "      <td>49.9401</td>\n",
       "      <td>36.9373</td>\n",
       "      <td>45.2168</td>\n",
       "    </tr>\n",
       "    <tr>\n",
       "      <th>9</th>\n",
       "      <td>49.6333</td>\n",
       "      <td>37.1460</td>\n",
       "      <td>45.6694</td>\n",
       "    </tr>\n",
       "  </tbody>\n",
       "</table>\n",
       "</div>"
      ],
      "text/plain": [
       "    random  independent  correlated\n",
       "0  49.9342      37.2607     45.5042\n",
       "1  50.0036      37.3839     45.8275\n",
       "2  50.1339      37.1014     45.3002\n",
       "3  50.2038      37.2785     45.7822\n",
       "4  49.7899      37.0146     45.5119\n",
       "5  49.8091      37.0951     45.4902\n",
       "6  49.7355      37.1291     45.3118\n",
       "7  49.9518      37.2115     45.6428\n",
       "8  49.9401      36.9373     45.2168\n",
       "9  49.6333      37.1460     45.6694"
      ]
     },
     "execution_count": 50,
     "metadata": {
      "tags": []
     },
     "output_type": "execute_result"
    }
   ],
   "source": [
    "mean_collection = pd.DataFrame()\n",
    "mean_collection['random'] = random_means\n",
    "mean_collection['independent'] = independet_means\n",
    "mean_collection['correlated'] = correlated_means\n",
    "\n",
    "plt.figure(dpi=100)\n",
    "sns.boxplot(data=mean_collection);                             \n",
    "plt.show()\n",
    "mean_collection"
   ]
  },
  {
   "cell_type": "markdown",
   "metadata": {
    "id": "rinUxv_lfbft"
   },
   "source": [
    "we know the real compas data set age attributes has the mean value of 35.143. Compare to three modes, the independent mode has the mean value that is closet to the ground truth. This is because indepdent mode, we replace the feature we want to protect with values that follow the same distribution as the original data. Thus, the mean value of age attribute is very close to the ground truth. \n",
    "\n",
    "In the random mode, we replace feature we want to protect with numbers randomly drawn from the uniform distribution. Thus, with number drawn from an uniform distribution with min = 0, max = 100, the mean value is close to 50 rather than the ground truth. \n",
    "\n",
    "In the correlated attribute mode, we replaces the feature we want to protect with values based on the conditional distribution of all the features in the database. Thus, the distribution of age would not be significantly close to the ground truth as the independent attribute could be. However, it still perform better than the random mode because it still takes consideration of the original age distribution in the real data set. "
   ]
  },
  {
   "cell_type": "code",
   "execution_count": 51,
   "metadata": {
    "colab": {
     "base_uri": "https://localhost:8080/",
     "height": 709
    },
    "id": "uVGIdUR7xAGC",
    "outputId": "91d04ee9-3106-494c-8eb1-1eec58aaf4eb"
   },
   "outputs": [
    {
     "data": {
      "image/png": "[encoded data removed]",
      "text/plain": [
       "<Figure size 600x400 with 1 Axes>"
      ]
     },
     "metadata": {
      "needs_background": "light",
      "tags": []
     },
     "output_type": "display_data"
    },
    {
     "data": {
      "text/html": [
       "<div>\n",
       "<style scoped>\n",
       "    .dataframe tbody tr th:only-of-type {\n",
       "        vertical-align: middle;\n",
       "    }\n",
       "\n",
       "    .dataframe tbody tr th {\n",
       "        vertical-align: top;\n",
       "    }\n",
       "\n",
       "    .dataframe thead th {\n",
       "        text-align: right;\n",
       "    }\n",
       "</style>\n",
       "<table border=\"1\" class=\"dataframe\">\n",
       "  <thead>\n",
       "    <tr style=\"text-align: right;\">\n",
       "      <th></th>\n",
       "      <th>random</th>\n",
       "      <th>independent</th>\n",
       "      <th>correlated</th>\n",
       "    </tr>\n",
       "  </thead>\n",
       "  <tbody>\n",
       "    <tr>\n",
       "      <th>0</th>\n",
       "      <td>50.0</td>\n",
       "      <td>33.0</td>\n",
       "      <td>39.0</td>\n",
       "    </tr>\n",
       "    <tr>\n",
       "      <th>1</th>\n",
       "      <td>50.0</td>\n",
       "      <td>33.0</td>\n",
       "      <td>39.0</td>\n",
       "    </tr>\n",
       "    <tr>\n",
       "      <th>2</th>\n",
       "      <td>50.0</td>\n",
       "      <td>33.0</td>\n",
       "      <td>39.0</td>\n",
       "    </tr>\n",
       "    <tr>\n",
       "      <th>3</th>\n",
       "      <td>50.0</td>\n",
       "      <td>33.0</td>\n",
       "      <td>39.0</td>\n",
       "    </tr>\n",
       "    <tr>\n",
       "      <th>4</th>\n",
       "      <td>49.0</td>\n",
       "      <td>33.0</td>\n",
       "      <td>39.0</td>\n",
       "    </tr>\n",
       "    <tr>\n",
       "      <th>5</th>\n",
       "      <td>50.0</td>\n",
       "      <td>33.0</td>\n",
       "      <td>39.0</td>\n",
       "    </tr>\n",
       "    <tr>\n",
       "      <th>6</th>\n",
       "      <td>49.0</td>\n",
       "      <td>33.0</td>\n",
       "      <td>38.5</td>\n",
       "    </tr>\n",
       "    <tr>\n",
       "      <th>7</th>\n",
       "      <td>50.0</td>\n",
       "      <td>33.0</td>\n",
       "      <td>39.0</td>\n",
       "    </tr>\n",
       "    <tr>\n",
       "      <th>8</th>\n",
       "      <td>50.0</td>\n",
       "      <td>33.0</td>\n",
       "      <td>38.0</td>\n",
       "    </tr>\n",
       "    <tr>\n",
       "      <th>9</th>\n",
       "      <td>50.0</td>\n",
       "      <td>33.0</td>\n",
       "      <td>39.0</td>\n",
       "    </tr>\n",
       "  </tbody>\n",
       "</table>\n",
       "</div>"
      ],
      "text/plain": [
       "   random  independent  correlated\n",
       "0    50.0         33.0        39.0\n",
       "1    50.0         33.0        39.0\n",
       "2    50.0         33.0        39.0\n",
       "3    50.0         33.0        39.0\n",
       "4    49.0         33.0        39.0\n",
       "5    50.0         33.0        39.0\n",
       "6    49.0         33.0        38.5\n",
       "7    50.0         33.0        39.0\n",
       "8    50.0         33.0        38.0\n",
       "9    50.0         33.0        39.0"
      ]
     },
     "execution_count": 51,
     "metadata": {
      "tags": []
     },
     "output_type": "execute_result"
    }
   ],
   "source": [
    "median_collection = pd.DataFrame()\n",
    "median_collection['random'] = random_medians\n",
    "median_collection['independent'] = independet_medians\n",
    "median_collection['correlated'] = correlated_medians\n",
    "\n",
    "plt.figure(dpi=100)\n",
    "sns.boxplot(data=median_collection);                             \n",
    "plt.show()\n",
    "median_collection"
   ]
  },
  {
   "cell_type": "markdown",
   "metadata": {
    "id": "vCZz-j6viR3f"
   },
   "source": [
    "we know the real compas data set age attributes has the median value of 32. Compare to three modes, the independent mode has the median value that is closet to the ground truth. This is because indepdent mode, we replace the feature we want to protect with values that follow the same distribution as the original data. Thus, the median value of age attribute(33) is very close to the ground truth(32).Also the spread is very narrow because median was not affected much when we change the seed because the underlying distribution did not change much. \n",
    "\n",
    "In the random mode, we replace feature we want to protect with numbers randomly drawn from the uniform distribution. Thus, with numbers drawn from an uniform distribution with min = 0, max = 100, the median value is close to 50 rather than the ground truth. The spread is very narrow because median was not affected much when we change the seed because the uniform distribution did not change much.\n",
    "\n",
    "In the correlated attribute mode, we replaces the feature we want to protect with values based on the conditional distribution of all the features in the database. Thus, the distribution of age would not be significantly close to the ground truth as the independent attribute could be. However, it still perform better than the random mode because it still takes consideration of the original age distribution in the real data set. The median value is around 39 which is a bit larger than the actual median. "
   ]
  },
  {
   "cell_type": "code",
   "execution_count": 55,
   "metadata": {
    "colab": {
     "base_uri": "https://localhost:8080/",
     "height": 367
    },
    "id": "R5Oop8f3xtWz",
    "outputId": "0b88e905-9e71-4fb8-ce8d-093ae67c3f16"
   },
   "outputs": [
    {
     "data": {
      "image/png": "[encoded data removed]",
      "text/plain": [
       "<Figure size 600x400 with 1 Axes>"
      ]
     },
     "metadata": {
      "needs_background": "light",
      "tags": []
     },
     "output_type": "display_data"
    }
   ],
   "source": [
    "min_collection = pd.DataFrame()\n",
    "min_collection['random'] = random_mins\n",
    "min_collection['indepdent'] = independet_mins\n",
    "min_collection['correlated'] = correlated_mins\n",
    "min_collection\n",
    "plt.figure(dpi=100)\n",
    "sns.boxplot(data=min_collection);   \n",
    "plt.show()\n"
   ]
  },
  {
   "cell_type": "markdown",
   "metadata": {
    "id": "9ZLpwX1uBkYT"
   },
   "source": [
    "For the min, we could see that indepdent attribute mode and correlated attribute mode both are both at the ground truth. However, the random mode is not because it follows the uniform distribution with min = 0 and max = 100. "
   ]
  },
  {
   "cell_type": "code",
   "execution_count": 56,
   "metadata": {
    "colab": {
     "base_uri": "https://localhost:8080/",
     "height": 367
    },
    "id": "1QQMj74oyfk8",
    "outputId": "75d1e39b-334b-4348-f307-1a77124617f0"
   },
   "outputs": [
    {
     "data": {
      "image/png": "[encoded data removed]",
      "text/plain": [
       "<Figure size 600x400 with 1 Axes>"
      ]
     },
     "metadata": {
      "needs_background": "light",
      "tags": []
     },
     "output_type": "display_data"
    }
   ],
   "source": [
    "max_collection = pd.DataFrame()\n",
    "max_collection['random'] = random_maxs\n",
    "max_collection['indepdent'] = independet_maxs\n",
    "max_collection['correlated'] = correlated_maxs\n",
    "max_collection\n",
    "plt.figure(dpi=100)\n",
    "sns.boxplot(data=max_collection);   \n",
    "plt.show()\n"
   ]
  },
  {
   "cell_type": "markdown",
   "metadata": {
    "id": "4XM9M33PBQ49"
   },
   "source": [
    "For the max, we could see that indepdent attribute mode and correlated attribute mode both are both at the ground truth. However, the random mode is not because it follows the uniform distribution with min = 0 and max = 100. "
   ]
  },
  {
   "cell_type": "markdown",
   "metadata": {
    "id": "UINl2ivCFdbk"
   },
   "source": [
    "## Part (c)\n",
    "\n",
    "Study how metrics of Q3 changes for data generation mode B, C, and D, as you vary __epsilon__."
   ]
  },
  {
   "cell_type": "markdown",
   "metadata": {
    "id": "mwcOyeY8Ho1v"
   },
   "source": [
    "- Plot the distributions of KL-divergence scores (10 samples each) with box-and-whiskers plots where you treat epsilon as the X-axis and generation settings as subplots. \n"
   ]
  },
  {
   "cell_type": "markdown",
   "metadata": {
    "id": "ezBhpBMZsKFL"
   },
   "source": [
    "# Independent Attribute Mode "
   ]
  },
  {
   "cell_type": "code",
   "execution_count": null,
   "metadata": {
    "id": "7E7oowaPHJ2i"
   },
   "outputs": [],
   "source": [
    "# You can use sns.boxplot for the plots\n",
    "# For examples, refer to https://seaborn.pydata.org/generated/seaborn.boxplot.html\n",
    "\n"
   ]
  },
  {
   "cell_type": "code",
   "execution_count": 58,
   "metadata": {
    "id": "P87lJyRY88aH"
   },
   "outputs": [],
   "source": [
    "\n",
    "description_files_compasC = {\n",
    "                     'independent attribute mode':    'description(independent).json', \n",
    "                     'correlated attribute mode 1':     'description(correlated 1).json',\n",
    "                     'correlated attribute mode 2':     'description(correlated 2).json'}\n",
    "\n",
    "\n",
    "\n",
    "\n",
    "\n",
    "synthetic_data_files_compasC = {\n",
    "                        'independent attribute mode': 'synthetic data(independent).csv', \n",
    "                        'correlated attribute mode 1':  'synthetic data(correlated 1).csv',\n",
    "                        'correlated attribute mode 2':  'synthetic data(correlated 2).csv'\n",
    "                        }\n",
    "\n",
    "\n",
    "   "
   ]
  },
  {
   "cell_type": "code",
   "execution_count": 59,
   "metadata": {
    "colab": {
     "base_uri": "https://localhost:8080/",
     "height": 612
    },
    "id": "3yH2k0_A9Avp",
    "outputId": "86498ef0-157c-47e0-eab4-36c166034cc1"
   },
   "outputs": [
    {
     "data": {
      "image/png": "[encoded data removed]",
      "text/plain": [
       "<Figure size 432x288 with 1 Axes>"
      ]
     },
     "metadata": {
      "needs_background": "light",
      "tags": []
     },
     "output_type": "display_data"
    },
    {
     "data": {
      "text/html": [
       "<div>\n",
       "<style scoped>\n",
       "    .dataframe tbody tr th:only-of-type {\n",
       "        vertical-align: middle;\n",
       "    }\n",
       "\n",
       "    .dataframe tbody tr th {\n",
       "        vertical-align: top;\n",
       "    }\n",
       "\n",
       "    .dataframe thead th {\n",
       "        text-align: right;\n",
       "    }\n",
       "</style>\n",
       "<table border=\"1\" class=\"dataframe\">\n",
       "  <thead>\n",
       "    <tr style=\"text-align: right;\">\n",
       "      <th></th>\n",
       "      <th>0.01</th>\n",
       "      <th>0.02</th>\n",
       "      <th>0.03</th>\n",
       "      <th>0.04</th>\n",
       "      <th>0.05</th>\n",
       "      <th>0.06</th>\n",
       "      <th>0.07</th>\n",
       "      <th>0.08</th>\n",
       "      <th>0.09</th>\n",
       "      <th>0.10</th>\n",
       "    </tr>\n",
       "  </thead>\n",
       "  <tbody>\n",
       "    <tr>\n",
       "      <th>0</th>\n",
       "      <td>0.534549</td>\n",
       "      <td>0.221263</td>\n",
       "      <td>0.130941</td>\n",
       "      <td>0.087459</td>\n",
       "      <td>0.066181</td>\n",
       "      <td>0.050840</td>\n",
       "      <td>0.041761</td>\n",
       "      <td>0.033211</td>\n",
       "      <td>0.027864</td>\n",
       "      <td>0.025320</td>\n",
       "    </tr>\n",
       "    <tr>\n",
       "      <th>1</th>\n",
       "      <td>0.552906</td>\n",
       "      <td>0.228723</td>\n",
       "      <td>0.126327</td>\n",
       "      <td>0.085235</td>\n",
       "      <td>0.061436</td>\n",
       "      <td>0.046674</td>\n",
       "      <td>0.036086</td>\n",
       "      <td>0.030426</td>\n",
       "      <td>0.024858</td>\n",
       "      <td>0.020859</td>\n",
       "    </tr>\n",
       "    <tr>\n",
       "      <th>2</th>\n",
       "      <td>0.576883</td>\n",
       "      <td>0.230662</td>\n",
       "      <td>0.133246</td>\n",
       "      <td>0.089229</td>\n",
       "      <td>0.065882</td>\n",
       "      <td>0.052008</td>\n",
       "      <td>0.036500</td>\n",
       "      <td>0.029723</td>\n",
       "      <td>0.025055</td>\n",
       "      <td>0.021500</td>\n",
       "    </tr>\n",
       "    <tr>\n",
       "      <th>3</th>\n",
       "      <td>0.546147</td>\n",
       "      <td>0.222805</td>\n",
       "      <td>0.130018</td>\n",
       "      <td>0.090750</td>\n",
       "      <td>0.066310</td>\n",
       "      <td>0.049039</td>\n",
       "      <td>0.040419</td>\n",
       "      <td>0.032116</td>\n",
       "      <td>0.026667</td>\n",
       "      <td>0.022278</td>\n",
       "    </tr>\n",
       "    <tr>\n",
       "      <th>4</th>\n",
       "      <td>0.533585</td>\n",
       "      <td>0.198921</td>\n",
       "      <td>0.115403</td>\n",
       "      <td>0.081063</td>\n",
       "      <td>0.062556</td>\n",
       "      <td>0.046640</td>\n",
       "      <td>0.037140</td>\n",
       "      <td>0.029085</td>\n",
       "      <td>0.021980</td>\n",
       "      <td>0.019623</td>\n",
       "    </tr>\n",
       "    <tr>\n",
       "      <th>5</th>\n",
       "      <td>0.517679</td>\n",
       "      <td>0.199601</td>\n",
       "      <td>0.116430</td>\n",
       "      <td>0.076691</td>\n",
       "      <td>0.056155</td>\n",
       "      <td>0.043382</td>\n",
       "      <td>0.031862</td>\n",
       "      <td>0.025880</td>\n",
       "      <td>0.021635</td>\n",
       "      <td>0.018921</td>\n",
       "    </tr>\n",
       "    <tr>\n",
       "      <th>6</th>\n",
       "      <td>0.562543</td>\n",
       "      <td>0.215668</td>\n",
       "      <td>0.117293</td>\n",
       "      <td>0.077797</td>\n",
       "      <td>0.058773</td>\n",
       "      <td>0.046882</td>\n",
       "      <td>0.036829</td>\n",
       "      <td>0.029780</td>\n",
       "      <td>0.025571</td>\n",
       "      <td>0.020759</td>\n",
       "    </tr>\n",
       "    <tr>\n",
       "      <th>7</th>\n",
       "      <td>0.534745</td>\n",
       "      <td>0.219658</td>\n",
       "      <td>0.120032</td>\n",
       "      <td>0.077484</td>\n",
       "      <td>0.053508</td>\n",
       "      <td>0.041549</td>\n",
       "      <td>0.031514</td>\n",
       "      <td>0.026255</td>\n",
       "      <td>0.021875</td>\n",
       "      <td>0.018454</td>\n",
       "    </tr>\n",
       "    <tr>\n",
       "      <th>8</th>\n",
       "      <td>0.559233</td>\n",
       "      <td>0.225053</td>\n",
       "      <td>0.131228</td>\n",
       "      <td>0.085770</td>\n",
       "      <td>0.060178</td>\n",
       "      <td>0.046319</td>\n",
       "      <td>0.036857</td>\n",
       "      <td>0.027136</td>\n",
       "      <td>0.022133</td>\n",
       "      <td>0.019218</td>\n",
       "    </tr>\n",
       "    <tr>\n",
       "      <th>9</th>\n",
       "      <td>0.532514</td>\n",
       "      <td>0.211282</td>\n",
       "      <td>0.126195</td>\n",
       "      <td>0.085165</td>\n",
       "      <td>0.064549</td>\n",
       "      <td>0.051852</td>\n",
       "      <td>0.040105</td>\n",
       "      <td>0.032080</td>\n",
       "      <td>0.026854</td>\n",
       "      <td>0.023528</td>\n",
       "    </tr>\n",
       "  </tbody>\n",
       "</table>\n",
       "</div>"
      ],
      "text/plain": [
       "       0.01      0.02      0.03  ...      0.08      0.09      0.10\n",
       "0  0.534549  0.221263  0.130941  ...  0.033211  0.027864  0.025320\n",
       "1  0.552906  0.228723  0.126327  ...  0.030426  0.024858  0.020859\n",
       "2  0.576883  0.230662  0.133246  ...  0.029723  0.025055  0.021500\n",
       "3  0.546147  0.222805  0.130018  ...  0.032116  0.026667  0.022278\n",
       "4  0.533585  0.198921  0.115403  ...  0.029085  0.021980  0.019623\n",
       "5  0.517679  0.199601  0.116430  ...  0.025880  0.021635  0.018921\n",
       "6  0.562543  0.215668  0.117293  ...  0.029780  0.025571  0.020759\n",
       "7  0.534745  0.219658  0.120032  ...  0.026255  0.021875  0.018454\n",
       "8  0.559233  0.225053  0.131228  ...  0.027136  0.022133  0.019218\n",
       "9  0.532514  0.211282  0.126195  ...  0.032080  0.026854  0.023528\n",
       "\n",
       "[10 rows x 10 columns]"
      ]
     },
     "execution_count": 59,
     "metadata": {
      "tags": []
     },
     "output_type": "execute_result"
    }
   ],
   "source": [
    "seeds = [99,5,45,30,88,36,21,12,68,1]\n",
    "epsilons =  [0.01, 0.02, 0.03, 0.04, 0.05, 0.06, 0.07, 0.08, 0.09, 0.1]\n",
    "KL_independent = pd.DataFrame()\n",
    "\n",
    "count = 0 \n",
    "for epsilon in epsilons:\n",
    "  kl_list = []\n",
    "  current_e = epsilon\n",
    "  #describe the data \n",
    "  describer.describe_dataset_in_independent_attribute_mode(real_data_file, epsilon=current_e)\n",
    "  describer.save_dataset_description_to_file(description_files_compasC['independent attribute mode'])\n",
    "  for seed in seeds:\n",
    "    #condition B\n",
    "    current_s = seed\n",
    "    #generate the data\n",
    "    generator.generate_dataset_in_independent_mode(n=output_data_size,description_file=description_files_compasC['independent attribute mode'],seed=current_s,)\n",
    "    #save the data \n",
    "    generator.save_synthetic_data(synthetic_data_files_compasC['independent attribute mode'])\n",
    "    #convert to dataframe\n",
    "    synthetic_independent_compasC = pd.read_csv(synthetic_data_files_compasC['independent attribute mode'])\n",
    "    #calculate the KL score \n",
    "    kl = kl_test(df_real, synthetic_independent_compasC, 'race')\n",
    "    kl_list.append(kl)\n",
    "    count += 1\n",
    "  KL_independent[current_e] = kl_list\n",
    "\n",
    "\n",
    "\n",
    "\n",
    "sns.boxplot(data=KL_independent);                             \n",
    "plt.show()\n",
    "KL_independent\n"
   ]
  },
  {
   "cell_type": "markdown",
   "metadata": {
    "id": "21VtqgX1qhGk"
   },
   "source": [
    "We know that when the KL divergence is close to 0, the two distributions perfectly matches, and when KL divergence is larger, the two distributions start to vary and we also know that smaller values of epsilon mean that more privacy is preserved, or more specifically, the real and synthetic datasets are not distinguishable and information cannot be extracted by a differential attack.\n",
    "\n",
    "Combined the above two expalainations, we understand that as epsilons decreases, more privacy is preserved and two distributions start to vary which would later lead to increase in the KL divergence. \n",
    "\n",
    "In the case of indepdent attribute mode, since we replace the feature we want to protect with values that follow the same distribution as the original data.\n",
    "So the distribution of race is considered to be the closet to the original race ditribution across the other two synthetic distributions created. Thus, the  kl divergence is the smallest compare to the kl divergence results from other the condition C and D. \n",
    "\n"
   ]
  },
  {
   "cell_type": "markdown",
   "metadata": {
    "id": "yQ1i_BnRsSTB"
   },
   "source": [
    "# correlated attribute mode with epsilon = 0.1, with Bayesian network degree k=1"
   ]
  },
  {
   "cell_type": "code",
   "execution_count": 60,
   "metadata": {
    "colab": {
     "base_uri": "https://localhost:8080/"
    },
    "id": "L_Pos9GOTRuF",
    "outputId": "c56311cd-8a91-490f-b6c2-9c715416f5c5"
   },
   "outputs": [
    {
     "name": "stdout",
     "output_type": "stream",
     "text": [
      "================ Constructing Bayesian Network (BN) ================\n",
      "Adding ROOT score\n",
      "Adding attribute age\n",
      "Adding attribute sex\n",
      "Adding attribute race\n",
      "========================== BN constructed ==========================\n"
     ]
    }
   ],
   "source": [
    "#generate data set for hw_compas C: correlated attribute mode with epsilon = 0.1, with Bayesian network degree k=1\n",
    "describer.describe_dataset_in_correlated_attribute_mode(real_data_file, \n",
    "                                                        epsilon=0.1, \n",
    "                                                        k=1)\n",
    "describer.save_dataset_description_to_file(description_files_compas['correlated attribute mode 1'])\n",
    "generator.generate_dataset_in_correlated_attribute_mode(n=output_data_size,description_file=description_files_compas['correlated attribute mode 1'],seed=0,)\n",
    "\n",
    "#save the synethetic data \n",
    "generator.save_synthetic_data(synthetic_data_files_compas['correlated attribute mode 1'])\n",
    "\n",
    "#convert to dataframe\n",
    "synthetic_correlated_1_compas = pd.read_csv(synthetic_data_files_compas['correlated attribute mode 1'])"
   ]
  },
  {
   "cell_type": "code",
   "execution_count": 61,
   "metadata": {
    "colab": {
     "base_uri": "https://localhost:8080/",
     "height": 1000
    },
    "id": "nHsfj5fHREGd",
    "outputId": "4fed68ca-8aec-41e6-d888-e79cb86f3ebb"
   },
   "outputs": [
    {
     "name": "stdout",
     "output_type": "stream",
     "text": [
      "================ Constructing Bayesian Network (BN) ================\n",
      "Adding ROOT score\n",
      "Adding attribute age\n",
      "Adding attribute sex\n",
      "Adding attribute race\n",
      "========================== BN constructed ==========================\n",
      "================ Constructing Bayesian Network (BN) ================\n",
      "Adding ROOT score\n",
      "Adding attribute age\n",
      "Adding attribute sex\n",
      "Adding attribute race\n",
      "========================== BN constructed ==========================\n",
      "================ Constructing Bayesian Network (BN) ================\n",
      "Adding ROOT score\n",
      "Adding attribute age\n",
      "Adding attribute sex\n",
      "Adding attribute race\n",
      "========================== BN constructed ==========================\n",
      "================ Constructing Bayesian Network (BN) ================\n",
      "Adding ROOT score\n",
      "Adding attribute age\n",
      "Adding attribute sex\n",
      "Adding attribute race\n",
      "========================== BN constructed ==========================\n",
      "================ Constructing Bayesian Network (BN) ================\n",
      "Adding ROOT score\n",
      "Adding attribute age\n",
      "Adding attribute sex\n",
      "Adding attribute race\n",
      "========================== BN constructed ==========================\n",
      "================ Constructing Bayesian Network (BN) ================\n",
      "Adding ROOT score\n",
      "Adding attribute age\n",
      "Adding attribute sex\n",
      "Adding attribute race\n",
      "========================== BN constructed ==========================\n",
      "================ Constructing Bayesian Network (BN) ================\n",
      "Adding ROOT score\n",
      "Adding attribute age\n",
      "Adding attribute sex\n",
      "Adding attribute race\n",
      "========================== BN constructed ==========================\n",
      "================ Constructing Bayesian Network (BN) ================\n",
      "Adding ROOT score\n",
      "Adding attribute age\n",
      "Adding attribute sex\n",
      "Adding attribute race\n",
      "========================== BN constructed ==========================\n",
      "================ Constructing Bayesian Network (BN) ================\n",
      "Adding ROOT score\n",
      "Adding attribute age\n",
      "Adding attribute sex\n",
      "Adding attribute race\n",
      "========================== BN constructed ==========================\n",
      "================ Constructing Bayesian Network (BN) ================\n",
      "Adding ROOT score\n",
      "Adding attribute age\n",
      "Adding attribute sex\n",
      "Adding attribute race\n",
      "========================== BN constructed ==========================\n"
     ]
    },
    {
     "data": {
      "text/html": [
       "<div>\n",
       "<style scoped>\n",
       "    .dataframe tbody tr th:only-of-type {\n",
       "        vertical-align: middle;\n",
       "    }\n",
       "\n",
       "    .dataframe tbody tr th {\n",
       "        vertical-align: top;\n",
       "    }\n",
       "\n",
       "    .dataframe thead th {\n",
       "        text-align: right;\n",
       "    }\n",
       "</style>\n",
       "<table border=\"1\" class=\"dataframe\">\n",
       "  <thead>\n",
       "    <tr style=\"text-align: right;\">\n",
       "      <th></th>\n",
       "      <th>0.01</th>\n",
       "      <th>0.02</th>\n",
       "      <th>0.03</th>\n",
       "      <th>0.04</th>\n",
       "      <th>0.05</th>\n",
       "      <th>0.06</th>\n",
       "      <th>0.07</th>\n",
       "      <th>0.08</th>\n",
       "      <th>0.09</th>\n",
       "      <th>0.10</th>\n",
       "    </tr>\n",
       "  </thead>\n",
       "  <tbody>\n",
       "    <tr>\n",
       "      <th>0</th>\n",
       "      <td>0.808912</td>\n",
       "      <td>0.603629</td>\n",
       "      <td>0.458435</td>\n",
       "      <td>0.362377</td>\n",
       "      <td>0.297087</td>\n",
       "      <td>0.239735</td>\n",
       "      <td>0.217929</td>\n",
       "      <td>0.187769</td>\n",
       "      <td>0.166709</td>\n",
       "      <td>0.145337</td>\n",
       "    </tr>\n",
       "    <tr>\n",
       "      <th>1</th>\n",
       "      <td>0.775029</td>\n",
       "      <td>0.602172</td>\n",
       "      <td>0.473612</td>\n",
       "      <td>0.358891</td>\n",
       "      <td>0.296012</td>\n",
       "      <td>0.228659</td>\n",
       "      <td>0.204249</td>\n",
       "      <td>0.176877</td>\n",
       "      <td>0.156245</td>\n",
       "      <td>0.144097</td>\n",
       "    </tr>\n",
       "    <tr>\n",
       "      <th>2</th>\n",
       "      <td>0.783133</td>\n",
       "      <td>0.580870</td>\n",
       "      <td>0.457840</td>\n",
       "      <td>0.347314</td>\n",
       "      <td>0.280760</td>\n",
       "      <td>0.233032</td>\n",
       "      <td>0.215201</td>\n",
       "      <td>0.181479</td>\n",
       "      <td>0.159605</td>\n",
       "      <td>0.136912</td>\n",
       "    </tr>\n",
       "    <tr>\n",
       "      <th>3</th>\n",
       "      <td>0.760282</td>\n",
       "      <td>0.591771</td>\n",
       "      <td>0.449896</td>\n",
       "      <td>0.360795</td>\n",
       "      <td>0.301174</td>\n",
       "      <td>0.253618</td>\n",
       "      <td>0.209917</td>\n",
       "      <td>0.189227</td>\n",
       "      <td>0.173253</td>\n",
       "      <td>0.152613</td>\n",
       "    </tr>\n",
       "    <tr>\n",
       "      <th>4</th>\n",
       "      <td>0.786299</td>\n",
       "      <td>0.612777</td>\n",
       "      <td>0.452093</td>\n",
       "      <td>0.346399</td>\n",
       "      <td>0.298895</td>\n",
       "      <td>0.242566</td>\n",
       "      <td>0.206357</td>\n",
       "      <td>0.189516</td>\n",
       "      <td>0.173223</td>\n",
       "      <td>0.150913</td>\n",
       "    </tr>\n",
       "    <tr>\n",
       "      <th>5</th>\n",
       "      <td>0.781598</td>\n",
       "      <td>0.609844</td>\n",
       "      <td>0.443167</td>\n",
       "      <td>0.362169</td>\n",
       "      <td>0.288116</td>\n",
       "      <td>0.239222</td>\n",
       "      <td>0.211979</td>\n",
       "      <td>0.178212</td>\n",
       "      <td>0.162990</td>\n",
       "      <td>0.146957</td>\n",
       "    </tr>\n",
       "    <tr>\n",
       "      <th>6</th>\n",
       "      <td>0.791986</td>\n",
       "      <td>0.571082</td>\n",
       "      <td>0.454514</td>\n",
       "      <td>0.363231</td>\n",
       "      <td>0.297934</td>\n",
       "      <td>0.240380</td>\n",
       "      <td>0.209230</td>\n",
       "      <td>0.167159</td>\n",
       "      <td>0.164894</td>\n",
       "      <td>0.140453</td>\n",
       "    </tr>\n",
       "    <tr>\n",
       "      <th>7</th>\n",
       "      <td>0.765467</td>\n",
       "      <td>0.575241</td>\n",
       "      <td>0.463608</td>\n",
       "      <td>0.357196</td>\n",
       "      <td>0.286488</td>\n",
       "      <td>0.238005</td>\n",
       "      <td>0.206580</td>\n",
       "      <td>0.178113</td>\n",
       "      <td>0.153243</td>\n",
       "      <td>0.133774</td>\n",
       "    </tr>\n",
       "    <tr>\n",
       "      <th>8</th>\n",
       "      <td>0.762695</td>\n",
       "      <td>0.584988</td>\n",
       "      <td>0.461848</td>\n",
       "      <td>0.360952</td>\n",
       "      <td>0.292210</td>\n",
       "      <td>0.250488</td>\n",
       "      <td>0.212809</td>\n",
       "      <td>0.191211</td>\n",
       "      <td>0.164041</td>\n",
       "      <td>0.147854</td>\n",
       "    </tr>\n",
       "    <tr>\n",
       "      <th>9</th>\n",
       "      <td>0.808934</td>\n",
       "      <td>0.631208</td>\n",
       "      <td>0.482262</td>\n",
       "      <td>0.393374</td>\n",
       "      <td>0.320996</td>\n",
       "      <td>0.266493</td>\n",
       "      <td>0.217047</td>\n",
       "      <td>0.200504</td>\n",
       "      <td>0.180038</td>\n",
       "      <td>0.160541</td>\n",
       "    </tr>\n",
       "  </tbody>\n",
       "</table>\n",
       "</div>"
      ],
      "text/plain": [
       "       0.01      0.02      0.03  ...      0.08      0.09      0.10\n",
       "0  0.808912  0.603629  0.458435  ...  0.187769  0.166709  0.145337\n",
       "1  0.775029  0.602172  0.473612  ...  0.176877  0.156245  0.144097\n",
       "2  0.783133  0.580870  0.457840  ...  0.181479  0.159605  0.136912\n",
       "3  0.760282  0.591771  0.449896  ...  0.189227  0.173253  0.152613\n",
       "4  0.786299  0.612777  0.452093  ...  0.189516  0.173223  0.150913\n",
       "5  0.781598  0.609844  0.443167  ...  0.178212  0.162990  0.146957\n",
       "6  0.791986  0.571082  0.454514  ...  0.167159  0.164894  0.140453\n",
       "7  0.765467  0.575241  0.463608  ...  0.178113  0.153243  0.133774\n",
       "8  0.762695  0.584988  0.461848  ...  0.191211  0.164041  0.147854\n",
       "9  0.808934  0.631208  0.482262  ...  0.200504  0.180038  0.160541\n",
       "\n",
       "[10 rows x 10 columns]"
      ]
     },
     "execution_count": 61,
     "metadata": {
      "tags": []
     },
     "output_type": "execute_result"
    },
    {
     "data": {
      "image/png": "[encoded data removed]",
      "text/plain": [
       "<Figure size 432x288 with 1 Axes>"
      ]
     },
     "metadata": {
      "needs_background": "light",
      "tags": []
     },
     "output_type": "display_data"
    }
   ],
   "source": [
    "seeds = [99,5,45,30,88,36,21,12,68,1]\n",
    "epsilons =  [0.01, 0.02, 0.03, 0.04, 0.05, 0.06, 0.07, 0.08, 0.09, 0.1]\n",
    "KL_correlated_1 = pd.DataFrame()\n",
    "\n",
    "for epsilon in epsilons:\n",
    "  kl_list = []\n",
    "  current_e = epsilon\n",
    "  #describe the data \n",
    "  describer.describe_dataset_in_correlated_attribute_mode(real_data_file, \n",
    "                                                        epsilon=current_e, \n",
    "                                                        k=1)\n",
    "  describer.save_dataset_description_to_file(description_files_compasC['correlated attribute mode 1'])\n",
    "  for seed in seeds:\n",
    "    current_s = seed\n",
    "    #generate the data\n",
    "    generator.generate_dataset_in_correlated_attribute_mode(n=output_data_size,description_file=description_files_compasC['correlated attribute mode 1'],seed=current_s,)\n",
    "    #save the data \n",
    "    generator.save_synthetic_data(synthetic_data_files_compasC['correlated attribute mode 1'])\n",
    "    #convert to dataframe\n",
    "    synthetic_correlated_1_compas = pd.read_csv(synthetic_data_files_compasC['correlated attribute mode 1'])\n",
    "    #calculate the KL score \n",
    "    kl = kl_test(df_real, synthetic_correlated_1_compas, 'race')\n",
    "    kl_list.append(kl)\n",
    "\n",
    "  KL_correlated_1[current_e] = kl_list\n",
    "\n",
    "\n",
    "\n",
    "\n",
    "sns.boxplot(data=KL_correlated_1);                             \n",
    "KL_correlated_1\n",
    "\n"
   ]
  },
  {
   "cell_type": "markdown",
   "metadata": {
    "id": "SD4pSkZJu86v"
   },
   "source": [
    "In the case of correlated attribute mode with k = 1, \n",
    "The correlated attribute mode replaces the feature we want to protect with values based on the conditional distribution of all the features in the database. Thus, the race distribution under condition C is not as close to the original race distribution as the race distribution under condition B. However, we could still see the trend of decreasing epsilons would in turn increase the KL divergence, which means that decreasing epsilons would increase the privacy preserved. "
   ]
  },
  {
   "cell_type": "code",
   "execution_count": 62,
   "metadata": {
    "colab": {
     "base_uri": "https://localhost:8080/",
     "height": 1000
    },
    "id": "rbZde7BRUWv9",
    "outputId": "8012bebe-abbd-497e-8672-25dd430ec4d4"
   },
   "outputs": [
    {
     "name": "stdout",
     "output_type": "stream",
     "text": [
      "================ Constructing Bayesian Network (BN) ================\n",
      "Adding ROOT score\n",
      "Adding attribute age\n",
      "Adding attribute sex\n",
      "Adding attribute race\n",
      "========================== BN constructed ==========================\n",
      "================ Constructing Bayesian Network (BN) ================\n",
      "Adding ROOT score\n",
      "Adding attribute age\n",
      "Adding attribute sex\n",
      "Adding attribute race\n",
      "========================== BN constructed ==========================\n",
      "================ Constructing Bayesian Network (BN) ================\n",
      "Adding ROOT score\n",
      "Adding attribute age\n",
      "Adding attribute sex\n",
      "Adding attribute race\n",
      "========================== BN constructed ==========================\n",
      "================ Constructing Bayesian Network (BN) ================\n",
      "Adding ROOT score\n",
      "Adding attribute age\n",
      "Adding attribute sex\n",
      "Adding attribute race\n",
      "========================== BN constructed ==========================\n",
      "================ Constructing Bayesian Network (BN) ================\n",
      "Adding ROOT score\n",
      "Adding attribute age\n",
      "Adding attribute sex\n",
      "Adding attribute race\n",
      "========================== BN constructed ==========================\n",
      "================ Constructing Bayesian Network (BN) ================\n",
      "Adding ROOT score\n",
      "Adding attribute age\n",
      "Adding attribute sex\n",
      "Adding attribute race\n",
      "========================== BN constructed ==========================\n",
      "================ Constructing Bayesian Network (BN) ================\n",
      "Adding ROOT score\n",
      "Adding attribute age\n",
      "Adding attribute sex\n",
      "Adding attribute race\n",
      "========================== BN constructed ==========================\n",
      "================ Constructing Bayesian Network (BN) ================\n",
      "Adding ROOT score\n",
      "Adding attribute age\n",
      "Adding attribute sex\n",
      "Adding attribute race\n",
      "========================== BN constructed ==========================\n",
      "================ Constructing Bayesian Network (BN) ================\n",
      "Adding ROOT score\n",
      "Adding attribute age\n",
      "Adding attribute sex\n",
      "Adding attribute race\n",
      "========================== BN constructed ==========================\n",
      "================ Constructing Bayesian Network (BN) ================\n",
      "Adding ROOT score\n",
      "Adding attribute age\n",
      "Adding attribute sex\n",
      "Adding attribute race\n",
      "========================== BN constructed ==========================\n"
     ]
    },
    {
     "data": {
      "text/html": [
       "<div>\n",
       "<style scoped>\n",
       "    .dataframe tbody tr th:only-of-type {\n",
       "        vertical-align: middle;\n",
       "    }\n",
       "\n",
       "    .dataframe tbody tr th {\n",
       "        vertical-align: top;\n",
       "    }\n",
       "\n",
       "    .dataframe thead th {\n",
       "        text-align: right;\n",
       "    }\n",
       "</style>\n",
       "<table border=\"1\" class=\"dataframe\">\n",
       "  <thead>\n",
       "    <tr style=\"text-align: right;\">\n",
       "      <th></th>\n",
       "      <th>0.01</th>\n",
       "      <th>0.02</th>\n",
       "      <th>0.03</th>\n",
       "      <th>0.04</th>\n",
       "      <th>0.05</th>\n",
       "      <th>0.06</th>\n",
       "      <th>0.07</th>\n",
       "      <th>0.08</th>\n",
       "      <th>0.09</th>\n",
       "      <th>0.10</th>\n",
       "    </tr>\n",
       "  </thead>\n",
       "  <tbody>\n",
       "    <tr>\n",
       "      <th>0</th>\n",
       "      <td>1.045372</td>\n",
       "      <td>0.785376</td>\n",
       "      <td>0.593396</td>\n",
       "      <td>0.430772</td>\n",
       "      <td>0.352364</td>\n",
       "      <td>0.306995</td>\n",
       "      <td>0.263774</td>\n",
       "      <td>0.223268</td>\n",
       "      <td>0.199892</td>\n",
       "      <td>0.174864</td>\n",
       "    </tr>\n",
       "    <tr>\n",
       "      <th>1</th>\n",
       "      <td>1.052349</td>\n",
       "      <td>0.792234</td>\n",
       "      <td>0.612065</td>\n",
       "      <td>0.441751</td>\n",
       "      <td>0.360839</td>\n",
       "      <td>0.305422</td>\n",
       "      <td>0.263175</td>\n",
       "      <td>0.235714</td>\n",
       "      <td>0.199572</td>\n",
       "      <td>0.175585</td>\n",
       "    </tr>\n",
       "    <tr>\n",
       "      <th>2</th>\n",
       "      <td>1.066917</td>\n",
       "      <td>0.796145</td>\n",
       "      <td>0.622714</td>\n",
       "      <td>0.471037</td>\n",
       "      <td>0.370383</td>\n",
       "      <td>0.308594</td>\n",
       "      <td>0.263991</td>\n",
       "      <td>0.211849</td>\n",
       "      <td>0.191041</td>\n",
       "      <td>0.167748</td>\n",
       "    </tr>\n",
       "    <tr>\n",
       "      <th>3</th>\n",
       "      <td>1.061372</td>\n",
       "      <td>0.796779</td>\n",
       "      <td>0.637191</td>\n",
       "      <td>0.462320</td>\n",
       "      <td>0.368188</td>\n",
       "      <td>0.309467</td>\n",
       "      <td>0.276293</td>\n",
       "      <td>0.238884</td>\n",
       "      <td>0.211268</td>\n",
       "      <td>0.184653</td>\n",
       "    </tr>\n",
       "    <tr>\n",
       "      <th>4</th>\n",
       "      <td>1.055752</td>\n",
       "      <td>0.779107</td>\n",
       "      <td>0.618658</td>\n",
       "      <td>0.445840</td>\n",
       "      <td>0.372270</td>\n",
       "      <td>0.314520</td>\n",
       "      <td>0.271213</td>\n",
       "      <td>0.234868</td>\n",
       "      <td>0.212967</td>\n",
       "      <td>0.189331</td>\n",
       "    </tr>\n",
       "    <tr>\n",
       "      <th>5</th>\n",
       "      <td>1.071713</td>\n",
       "      <td>0.801810</td>\n",
       "      <td>0.626465</td>\n",
       "      <td>0.451777</td>\n",
       "      <td>0.359821</td>\n",
       "      <td>0.299615</td>\n",
       "      <td>0.264049</td>\n",
       "      <td>0.223728</td>\n",
       "      <td>0.188156</td>\n",
       "      <td>0.166992</td>\n",
       "    </tr>\n",
       "    <tr>\n",
       "      <th>6</th>\n",
       "      <td>1.039520</td>\n",
       "      <td>0.791465</td>\n",
       "      <td>0.638496</td>\n",
       "      <td>0.452404</td>\n",
       "      <td>0.360107</td>\n",
       "      <td>0.313423</td>\n",
       "      <td>0.267484</td>\n",
       "      <td>0.236080</td>\n",
       "      <td>0.204594</td>\n",
       "      <td>0.175527</td>\n",
       "    </tr>\n",
       "    <tr>\n",
       "      <th>7</th>\n",
       "      <td>1.030433</td>\n",
       "      <td>0.768661</td>\n",
       "      <td>0.593066</td>\n",
       "      <td>0.436529</td>\n",
       "      <td>0.349713</td>\n",
       "      <td>0.292030</td>\n",
       "      <td>0.258005</td>\n",
       "      <td>0.217236</td>\n",
       "      <td>0.193064</td>\n",
       "      <td>0.161426</td>\n",
       "    </tr>\n",
       "    <tr>\n",
       "      <th>8</th>\n",
       "      <td>1.063956</td>\n",
       "      <td>0.814908</td>\n",
       "      <td>0.642320</td>\n",
       "      <td>0.476740</td>\n",
       "      <td>0.387674</td>\n",
       "      <td>0.326615</td>\n",
       "      <td>0.270361</td>\n",
       "      <td>0.234301</td>\n",
       "      <td>0.206780</td>\n",
       "      <td>0.185664</td>\n",
       "    </tr>\n",
       "    <tr>\n",
       "      <th>9</th>\n",
       "      <td>1.042284</td>\n",
       "      <td>0.795127</td>\n",
       "      <td>0.624831</td>\n",
       "      <td>0.468012</td>\n",
       "      <td>0.375486</td>\n",
       "      <td>0.301347</td>\n",
       "      <td>0.268928</td>\n",
       "      <td>0.228785</td>\n",
       "      <td>0.185964</td>\n",
       "      <td>0.161417</td>\n",
       "    </tr>\n",
       "  </tbody>\n",
       "</table>\n",
       "</div>"
      ],
      "text/plain": [
       "       0.01      0.02      0.03  ...      0.08      0.09      0.10\n",
       "0  1.045372  0.785376  0.593396  ...  0.223268  0.199892  0.174864\n",
       "1  1.052349  0.792234  0.612065  ...  0.235714  0.199572  0.175585\n",
       "2  1.066917  0.796145  0.622714  ...  0.211849  0.191041  0.167748\n",
       "3  1.061372  0.796779  0.637191  ...  0.238884  0.211268  0.184653\n",
       "4  1.055752  0.779107  0.618658  ...  0.234868  0.212967  0.189331\n",
       "5  1.071713  0.801810  0.626465  ...  0.223728  0.188156  0.166992\n",
       "6  1.039520  0.791465  0.638496  ...  0.236080  0.204594  0.175527\n",
       "7  1.030433  0.768661  0.593066  ...  0.217236  0.193064  0.161426\n",
       "8  1.063956  0.814908  0.642320  ...  0.234301  0.206780  0.185664\n",
       "9  1.042284  0.795127  0.624831  ...  0.228785  0.185964  0.161417\n",
       "\n",
       "[10 rows x 10 columns]"
      ]
     },
     "execution_count": 62,
     "metadata": {
      "tags": []
     },
     "output_type": "execute_result"
    },
    {
     "data": {
      "image/png": "[encoded data removed]",
      "text/plain": [
       "<Figure size 432x288 with 1 Axes>"
      ]
     },
     "metadata": {
      "needs_background": "light",
      "tags": []
     },
     "output_type": "display_data"
    }
   ],
   "source": [
    "seeds = [99,5,45,30,88,36,21,12,68,1]\n",
    "epsilons =  [0.01, 0.02, 0.03, 0.04, 0.05, 0.06, 0.07, 0.08, 0.09, 0.1]\n",
    "KL_correlated_2 = pd.DataFrame()\n",
    "\n",
    "for epsilon in epsilons:\n",
    "  kl_list = []\n",
    "  current_e = epsilon\n",
    "  #describe the data \n",
    "  describer.describe_dataset_in_correlated_attribute_mode(real_data_file, \n",
    "                                                        epsilon=current_e, \n",
    "                                                        k=2)\n",
    "  describer.save_dataset_description_to_file(description_files_compasC['correlated attribute mode 2'])\n",
    "  for seed in seeds:\n",
    "    current_s = seed\n",
    "    #generate the data\n",
    "    generator.generate_dataset_in_correlated_attribute_mode(n=output_data_size,description_file=description_files_compasC['correlated attribute mode 2'],seed=current_s,)\n",
    "    #save the data \n",
    "    generator.save_synthetic_data(synthetic_data_files_compasC['correlated attribute mode 2'])\n",
    "    #convert to dataframe\n",
    "    synthetic_correlated_2_compas = pd.read_csv(synthetic_data_files_compasC['correlated attribute mode 2'])\n",
    "    #calculate the KL score \n",
    "    kl = kl_test(df_real, synthetic_correlated_2_compas, 'race')\n",
    "    kl_list.append(kl)\n",
    "\n",
    "  KL_correlated_2[current_e] = kl_list\n",
    "\n",
    "\n",
    "\n",
    "\n",
    "sns.boxplot(data=KL_correlated_2);                             \n",
    "KL_correlated_2"
   ]
  },
  {
   "cell_type": "markdown",
   "metadata": {
    "id": "Y1NGNbaBmUdj"
   },
   "source": [
    "In the case of correlated attribute mode with k = 2, \n",
    "The correlated attribute mode replaces the feature we want to protect with values based on the conditional distribution of all the features in the database. And in this mode, every children would have maximum of 2 parents. The race distributions with various epsilons under condition D are not as close to the original race distribution as the race distribution under condition C because correlated attribute mode with k = 1 does a better job recreating the race distribution of the original compas race distribution . However, we could still see the trend of decreasing epsilons would in turn increase the KL divergence, which means that decreasing epsilons would increase the privacy preserved. "
   ]
  }
 ],
 "metadata": {
  "colab": {
   "collapsed_sections": [],
   "name": "HW2 DS-UA 202 (cz1520).ipynb",
   "provenance": []
  },
  "kernelspec": {
   "display_name": "Python 3",
   "language": "python",
   "name": "python3"
  },
  "language_info": {
   "codemirror_mode": {
    "name": "ipython",
    "version": 3
   },
   "file_extension": ".py",
   "mimetype": "text/x-python",
   "name": "python",
   "nbconvert_exporter": "python",
   "pygments_lexer": "ipython3",
   "version": "3.7.6"
  }
 },
 "nbformat": 4,
 "nbformat_minor": 1
}
